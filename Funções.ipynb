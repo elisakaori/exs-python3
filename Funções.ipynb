{
 "cells": [
  {
   "cell_type": "markdown",
   "id": "0f766893",
   "metadata": {},
   "source": [
    "### Funções"
   ]
  },
  {
   "cell_type": "markdown",
   "id": "c9dc0ea1",
   "metadata": {},
   "source": [
    "Exercício 1"
   ]
  },
  {
   "cell_type": "code",
   "execution_count": 5,
   "id": "b4803812",
   "metadata": {},
   "outputs": [
    {
     "name": "stdout",
     "output_type": "stream",
     "text": [
      "Digite um número: 10\n",
      "1 \n",
      "2 2 \n",
      "3 3 3 \n",
      "4 4 4 4 \n",
      "5 5 5 5 5 \n",
      "6 6 6 6 6 6 \n",
      "7 7 7 7 7 7 7 \n",
      "8 8 8 8 8 8 8 8 \n",
      "9 9 9 9 9 9 9 9 9 \n",
      "10 10 10 10 10 10 10 10 10 10 \n"
     ]
    }
   ],
   "source": [
    "def seq():\n",
    "    n= int(input('Digite um número: '))\n",
    "    numeros= list(range(1,n+1))\n",
    "    for i in numeros:\n",
    "        count = (i+1)-1\n",
    "        print((str(i) + ' ') * count)\n",
    "    \n",
    "seq()"
   ]
  },
  {
   "cell_type": "markdown",
   "id": "a286b087",
   "metadata": {},
   "source": [
    "Exercicio 2"
   ]
  },
  {
   "cell_type": "code",
   "execution_count": 8,
   "id": "a2f22ab1",
   "metadata": {},
   "outputs": [
    {
     "name": "stdout",
     "output_type": "stream",
     "text": [
      "Digite um número: 5\n",
      "1\n",
      "12\n",
      "123\n",
      "1234\n",
      "12345\n"
     ]
    }
   ],
   "source": [
    "def seq2():\n",
    "    n= int(input('Digite um número: '))\n",
    "    for x in range(1,n+1):\n",
    "        print(x , end ='\\n')\n",
    "        if x == n:\n",
    "            break\n",
    "        else:\n",
    "            for y in range(1,n+1):\n",
    "                if x >= y:\n",
    "                    print(y, end='')\n",
    "seq2()"
   ]
  },
  {
   "cell_type": "markdown",
   "id": "5b7ef5d7",
   "metadata": {},
   "source": [
    "3. Faça um programa, com uma função que necessite de três argumentos, e que forneça a soma desses três argumentos.\n"
   ]
  },
  {
   "cell_type": "code",
   "execution_count": 9,
   "id": "96588c82",
   "metadata": {},
   "outputs": [
    {
     "name": "stdout",
     "output_type": "stream",
     "text": [
      "Primeiro número: 5\n",
      "Segundo número: 5\n",
      "Terceiro número: 1\n",
      "Soma =  11\n"
     ]
    }
   ],
   "source": [
    "def soma_num(a, b, c):\n",
    "    s = a + b + c\n",
    "    return s\n",
    "\n",
    "a = int(input('Primeiro número: '))\n",
    "b = int(input('Segundo número: '))\n",
    "c = int(input('Terceiro número: '))\n",
    "\n",
    "print('Soma = ', soma_num(a, b, c))"
   ]
  },
  {
   "cell_type": "markdown",
   "id": "6b6850e5",
   "metadata": {},
   "source": [
    "4. Faça um programa, com uma função que necessite de um argumento. A função retorna o valor de caractere ‘P’, se seu argumento for positivo, e ‘N’, se seu argumento for zero ou negativo."
   ]
  },
  {
   "cell_type": "code",
   "execution_count": 13,
   "id": "2eecafa0",
   "metadata": {},
   "outputs": [
    {
     "name": "stdout",
     "output_type": "stream",
     "text": [
      "digite um número: 5\n",
      "Positivo\n"
     ]
    }
   ],
   "source": [
    "def func():\n",
    "    n = int(input('digite um número: '))\n",
    "    if n > 0:\n",
    "        print('Positivo')\n",
    "    elif n == 0:\n",
    "        print('Nulo')\n",
    "    else:\n",
    "        print('Negativo')\n",
    "\n",
    "func()"
   ]
  },
  {
   "cell_type": "markdown",
   "id": "b5618ccc",
   "metadata": {},
   "source": [
    "5. Faça um programa com uma função chamada somaImposto. A função possui dois parâmetros formais: taxaImposto, que é a quantia de imposto sobre vendas expressa em porcentagem e Custo, que é o custo de um item antes do imposto. A função “altera” o valor de custo para incluir o imposto sobre vendas."
   ]
  },
  {
   "cell_type": "code",
   "execution_count": 14,
   "id": "e7cbde61",
   "metadata": {},
   "outputs": [
    {
     "name": "stdout",
     "output_type": "stream",
     "text": [
      "Digite a taxa de imposto: 5\n",
      "Digite o custo: 45\n",
      "Valor com imposto: 47.25\n"
     ]
    }
   ],
   "source": [
    "def soma_imposto(taxa_imposto, custo):\n",
    "    return (1 + taxa_imposto/100)*custo\n",
    "\n",
    "t = float(input('Digite a taxa de imposto: '))\n",
    "c = float(input('Digite o custo: '))\n",
    "\n",
    "print('Valor com imposto:', soma_imposto(t,c))"
   ]
  },
  {
   "cell_type": "markdown",
   "id": "bc6c4ce1",
   "metadata": {},
   "source": [
    "6. Faça um programa que converta da notação de 24 horas para a notação de 12 horas. Por exemplo, o programa deve converter 14:25 em 2:25 P.M. A entrada é dada em dois inteiros. Deve haver pelo menos duas funções: uma para fazer a conversão e uma para a saída. Registre a informação A.M./P.M. como um valor ‘A’ para A.M. e ‘P’ para P.M. Assim, a função para efetuar as conversões terá um parâmetro formal para registrar se é A.M. ou P.M. Inclua um loop que permita que o usuário repita esse cálculo para novos valores de entrada todas as vezes que desejar."
   ]
  },
  {
   "cell_type": "code",
   "execution_count": 33,
   "id": "956bd3bc",
   "metadata": {},
   "outputs": [
    {
     "name": "stdout",
     "output_type": "stream",
     "text": [
      "Digite a hora a ser convertida: 5\n",
      "Digite o minuto: 25\n",
      "Convertido:5\n",
      "Continuar? (1)sim (0) nao: 0\n",
      "Digite a hora a ser convertida: 5\n",
      "Digite o minuto: 1\n",
      "Convertido:5\n",
      "Continuar? (1)sim (0) nao: 0\n",
      "Digite a hora a ser convertida: 1\n",
      "Digite o minuto: 1\n",
      "Convertido:1\n",
      "Continuar? (1)sim (0) nao: 1\n"
     ]
    },
    {
     "ename": "KeyboardInterrupt",
     "evalue": "Interrupted by user",
     "output_type": "error",
     "traceback": [
      "\u001b[0;31m---------------------------------------------------------------------------\u001b[0m",
      "\u001b[0;31mKeyboardInterrupt\u001b[0m                         Traceback (most recent call last)",
      "\u001b[0;32m/tmp/ipykernel_46468/3759722963.py\u001b[0m in \u001b[0;36m<module>\u001b[0;34m\u001b[0m\n\u001b[1;32m     12\u001b[0m \u001b[0mcontrole\u001b[0m \u001b[0;34m=\u001b[0m \u001b[0;36m1\u001b[0m\u001b[0;34m\u001b[0m\u001b[0;34m\u001b[0m\u001b[0m\n\u001b[1;32m     13\u001b[0m \u001b[0;32mwhile\u001b[0m \u001b[0mcontrole\u001b[0m \u001b[0;34m!=\u001b[0m \u001b[0;36m0\u001b[0m\u001b[0;34m:\u001b[0m\u001b[0;34m\u001b[0m\u001b[0;34m\u001b[0m\u001b[0m\n\u001b[0;32m---> 14\u001b[0;31m     \u001b[0mhora\u001b[0m \u001b[0;34m=\u001b[0m \u001b[0mint\u001b[0m\u001b[0;34m(\u001b[0m\u001b[0minput\u001b[0m\u001b[0;34m(\u001b[0m\u001b[0;34m\"Digite a hora a ser convertida: \"\u001b[0m\u001b[0;34m)\u001b[0m\u001b[0;34m)\u001b[0m\u001b[0;34m\u001b[0m\u001b[0;34m\u001b[0m\u001b[0m\n\u001b[0m\u001b[1;32m     15\u001b[0m     \u001b[0mminuto\u001b[0m \u001b[0;34m=\u001b[0m \u001b[0mint\u001b[0m\u001b[0;34m(\u001b[0m\u001b[0minput\u001b[0m\u001b[0;34m(\u001b[0m\u001b[0;34m\"Digite o minuto: \"\u001b[0m\u001b[0;34m)\u001b[0m\u001b[0;34m)\u001b[0m\u001b[0;34m\u001b[0m\u001b[0;34m\u001b[0m\u001b[0m\n\u001b[1;32m     16\u001b[0m     \u001b[0mhora_final\u001b[0m \u001b[0;34m=\u001b[0m \u001b[0mconverter_hora\u001b[0m\u001b[0;34m(\u001b[0m\u001b[0mhora\u001b[0m\u001b[0;34m)\u001b[0m\u001b[0;34m\u001b[0m\u001b[0;34m\u001b[0m\u001b[0m\n",
      "\u001b[0;32m~/.local/lib/python3.8/site-packages/ipykernel/kernelbase.py\u001b[0m in \u001b[0;36mraw_input\u001b[0;34m(self, prompt)\u001b[0m\n\u001b[1;32m   1005\u001b[0m                 \u001b[0;34m\"raw_input was called, but this frontend does not support input requests.\"\u001b[0m\u001b[0;34m\u001b[0m\u001b[0;34m\u001b[0m\u001b[0m\n\u001b[1;32m   1006\u001b[0m             )\n\u001b[0;32m-> 1007\u001b[0;31m         return self._input_request(\n\u001b[0m\u001b[1;32m   1008\u001b[0m             \u001b[0mstr\u001b[0m\u001b[0;34m(\u001b[0m\u001b[0mprompt\u001b[0m\u001b[0;34m)\u001b[0m\u001b[0;34m,\u001b[0m\u001b[0;34m\u001b[0m\u001b[0;34m\u001b[0m\u001b[0m\n\u001b[1;32m   1009\u001b[0m             \u001b[0mself\u001b[0m\u001b[0;34m.\u001b[0m\u001b[0m_parent_ident\u001b[0m\u001b[0;34m[\u001b[0m\u001b[0;34m\"shell\"\u001b[0m\u001b[0;34m]\u001b[0m\u001b[0;34m,\u001b[0m\u001b[0;34m\u001b[0m\u001b[0;34m\u001b[0m\u001b[0m\n",
      "\u001b[0;32m~/.local/lib/python3.8/site-packages/ipykernel/kernelbase.py\u001b[0m in \u001b[0;36m_input_request\u001b[0;34m(self, prompt, ident, parent, password)\u001b[0m\n\u001b[1;32m   1050\u001b[0m             \u001b[0;32mexcept\u001b[0m \u001b[0mKeyboardInterrupt\u001b[0m\u001b[0;34m:\u001b[0m\u001b[0;34m\u001b[0m\u001b[0;34m\u001b[0m\u001b[0m\n\u001b[1;32m   1051\u001b[0m                 \u001b[0;31m# re-raise KeyboardInterrupt, to truncate traceback\u001b[0m\u001b[0;34m\u001b[0m\u001b[0;34m\u001b[0m\u001b[0;34m\u001b[0m\u001b[0m\n\u001b[0;32m-> 1052\u001b[0;31m                 \u001b[0;32mraise\u001b[0m \u001b[0mKeyboardInterrupt\u001b[0m\u001b[0;34m(\u001b[0m\u001b[0;34m\"Interrupted by user\"\u001b[0m\u001b[0;34m)\u001b[0m \u001b[0;32mfrom\u001b[0m \u001b[0;32mNone\u001b[0m\u001b[0;34m\u001b[0m\u001b[0;34m\u001b[0m\u001b[0m\n\u001b[0m\u001b[1;32m   1053\u001b[0m             \u001b[0;32mexcept\u001b[0m \u001b[0mException\u001b[0m\u001b[0;34m:\u001b[0m\u001b[0;34m\u001b[0m\u001b[0;34m\u001b[0m\u001b[0m\n\u001b[1;32m   1054\u001b[0m                 \u001b[0mself\u001b[0m\u001b[0;34m.\u001b[0m\u001b[0mlog\u001b[0m\u001b[0;34m.\u001b[0m\u001b[0mwarning\u001b[0m\u001b[0;34m(\u001b[0m\u001b[0;34m\"Invalid Message:\"\u001b[0m\u001b[0;34m,\u001b[0m \u001b[0mexc_info\u001b[0m\u001b[0;34m=\u001b[0m\u001b[0;32mTrue\u001b[0m\u001b[0;34m)\u001b[0m\u001b[0;34m\u001b[0m\u001b[0;34m\u001b[0m\u001b[0m\n",
      "\u001b[0;31mKeyboardInterrupt\u001b[0m: Interrupted by user"
     ]
    }
   ],
   "source": [
    "def converter_hora(hora):\n",
    "    if hora > 12 and hora != 24:\n",
    "        contador = 0\n",
    "        for x in range(hora):\n",
    "            if x >= 12:\n",
    "                contador+=1\n",
    "        return contador\n",
    "    elif hora == 24:\n",
    "        return 0\n",
    "    else:\n",
    "        return hora\n",
    "controle = 1\n",
    "while controle != 0:\n",
    "    hora = int(input(\"Digite a hora a ser convertida: \"))\n",
    "    minuto = int(input(\"Digite o minuto: \"))\n",
    "    hora_final = converter_hora(hora)\n",
    "    print(\"Convertido:{}\".format(hora, minuto))\n",
    "    controle = input(\"Continuar? (1)sim (0) nao: \")"
   ]
  },
  {
   "cell_type": "markdown",
   "id": "355b1f37",
   "metadata": {},
   "source": [
    "8. Faça uma função que informe a quantidade de dígitos de um determinado número inteiro informado.\n",
    "\n"
   ]
  },
  {
   "cell_type": "code",
   "execution_count": 35,
   "id": "8a7535f9",
   "metadata": {},
   "outputs": [
    {
     "name": "stdout",
     "output_type": "stream",
     "text": [
      "Digite um número: 65468\n",
      "Esse número tem 5 dígitos\n"
     ]
    }
   ],
   "source": [
    "def inteiros(n):\n",
    "    return len((str(n)))\n",
    "\n",
    "n = str(input('Digite um número: ')).strip()\n",
    "print(f'Esse número tem {inteiros(n)} dígitos')\n"
   ]
  },
  {
   "cell_type": "markdown",
   "id": "5176eb42",
   "metadata": {},
   "source": [
    "9. Reverso do número. Faça uma função que retorne o reverso de um número inteiro informado. Por exemplo: 127 -> 721."
   ]
  },
  {
   "cell_type": "code",
   "execution_count": 36,
   "id": "fc5ee0ae",
   "metadata": {},
   "outputs": [
    {
     "name": "stdout",
     "output_type": "stream",
     "text": [
      "Digite um número: 658\n",
      "Reverso: 856\n"
     ]
    }
   ],
   "source": [
    "def reverso(n):\n",
    "    return str(n[::-1])\n",
    "\n",
    "n = str(input('Digite um número: ')).strip()\n",
    "print(f'Reverso: {reverso(n)}')"
   ]
  },
  {
   "cell_type": "markdown",
   "id": "1ffe03e1",
   "metadata": {},
   "source": [
    "12. Embaralha palavra. Construa uma função que receba uma string como parâmetro e devolva outra string com os carateres embaralhados. Por exemplo: se função receber a palavra python, pode retornar npthyo, ophtyn ou qualquer outra combinação possível, de forma aleatória. Padronize em sua função que todos os caracteres serão devolvidos em caixa alta ou caixa baixa, independentemente de como foram digitados."
   ]
  },
  {
   "cell_type": "code",
   "execution_count": 37,
   "id": "69ceffa8",
   "metadata": {},
   "outputs": [
    {
     "name": "stdout",
     "output_type": "stream",
     "text": [
      "Digite algo: palavras\n",
      "psalarav\n"
     ]
    }
   ],
   "source": [
    "from random import shuffle\n",
    "def embaralha(nome):\n",
    "    a = list(nome)\n",
    "    shuffle(a)\n",
    "    a = ''.join(a)\n",
    "    print(a.lower())\n",
    "\n",
    "\n",
    "nome = input('Digite algo: ')\n",
    "embaralha(nome)"
   ]
  },
  {
   "cell_type": "markdown",
   "id": "332fe91d",
   "metadata": {},
   "source": [
    "13. Desenha moldura. Construa uma função que desenhe um retângulo usando os caracteres ‘+’ , ‘−’ e ‘| ‘. Esta função deve receber dois parâmetros, linhas e colunas, sendo que o valor por omissão é o valor mínimo igual a 1 e o valor máximo é 20. Se valores fora da faixa forem informados, eles devem ser modificados para valores dentro da faixa de forma elegante."
   ]
  },
  {
   "cell_type": "markdown",
   "id": "03439dc6",
   "metadata": {},
   "source": [
    "14. Quadrado mágico. Um quadrado mágico é aquele dividido em linhas e colunas, com um número em cada posição e no qual a soma das linhas, colunas e diagonais é a mesma. Por exemplo, veja um quadrado mágico de lado 3, com números de 1 a 9:\n",
    "\n"
   ]
  },
  {
   "cell_type": "code",
   "execution_count": null,
   "id": "758d60e3",
   "metadata": {},
   "outputs": [],
   "source": []
  }
 ],
 "metadata": {
  "kernelspec": {
   "display_name": "Python 3 (ipykernel)",
   "language": "python",
   "name": "python3"
  },
  "language_info": {
   "codemirror_mode": {
    "name": "ipython",
    "version": 3
   },
   "file_extension": ".py",
   "mimetype": "text/x-python",
   "name": "python",
   "nbconvert_exporter": "python",
   "pygments_lexer": "ipython3",
   "version": "3.8.10"
  }
 },
 "nbformat": 4,
 "nbformat_minor": 5
}
