{
 "cells": [
  {
   "cell_type": "code",
   "execution_count": 150,
   "id": "21c103b8",
   "metadata": {},
   "outputs": [],
   "source": [
    "teste = open('relatorio.txt', 'w+')\n",
    "d = {}\n",
    "valores = []\n",
    "soma = 0\n",
    "i = 0\n",
    "# abrindo arquivo e transformando em um dicionário\n",
    "with open(\"usuario.txt\") as f:\n",
    "    for line in f:\n",
    "        (key, val) = line.split()\n",
    "        d[key] = round(int(val)/1048576, 2)\n",
    "        soma = round(int(val)/1048576, 2) + soma\n",
    "        i = i + 1\n",
    "        \n",
    "# espaço medio ocupado\n",
    "media = round(soma/i, 2)\n",
    "media\n",
    "\n",
    "# transformando valores do dicionário em uma lista\n",
    "valores = d.values()\n",
    "valores = list(valores)\n",
    "\n",
    "# porcentagem de uso\n",
    "def porcentagem(valores):\n",
    "    i = 0\n",
    "    for i in range(len(valores)):\n",
    "        valores[i]=round((valores[i]/soma)*100, 2)\n",
    "    return valores\n",
    "\n",
    "\n",
    "porcentagem(valores)\n",
    "    \n",
    "#\n",
    "linha = '\\n------------------------------------------------------------------------------'\n",
    "\n",
    "print('ACME Inc.' + f\"{'Uso do espaço em disco pelos usuários':>69}\" + linha, file = teste)\n",
    "print('Nr.\\t' + 'Usuário' + '{:>33}'.format('Espaço utilizado') + '{:>30}'.format('% do uso')+ linha, file = teste)\n",
    "\n",
    "i = 0\n",
    "for key, val in d.items():\n",
    "    print('{}\\t'.format(i + 1) + key +\":  \\t\"+'{:>20}'.format(str(val))+ ' MB  \\t{:>20} %'.format(valores[i]),file = teste)\n",
    "    i = i + 1\n",
    "\n",
    "print('\\nEspaço total ocupado: {:>10} MB'.format(soma) + '\\n' + 'Espaço médio ocupado: {:>10} MB'.format(media), file = teste)"
   ]
  }
 ],
 "metadata": {
  "kernelspec": {
   "display_name": "Python 3 (ipykernel)",
   "language": "python",
   "name": "python3"
  },
  "language_info": {
   "codemirror_mode": {
    "name": "ipython",
    "version": 3
   },
   "file_extension": ".py",
   "mimetype": "text/x-python",
   "name": "python",
   "nbconvert_exporter": "python",
   "pygments_lexer": "ipython3",
   "version": "3.8.10"
  }
 },
 "nbformat": 4,
 "nbformat_minor": 5
}
