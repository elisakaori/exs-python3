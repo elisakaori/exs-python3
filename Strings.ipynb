{
 "cells": [
  {
   "cell_type": "markdown",
   "id": "326b75ee",
   "metadata": {},
   "source": [
    "### Strings"
   ]
  },
  {
   "cell_type": "markdown",
   "id": "b3ace34e",
   "metadata": {},
   "source": [
    "1. Tamanho de strings. Faça um programa que leia 2 strings e informe o conteúdo delas seguido do seu comprimento. Informe também se as duas strings possuem o mesmo comprimento e são iguais ou diferentes no conteúdo. <br><br>\n",
    "\n",
    "    Compara duas strings<br>\n",
    "    String 1: Brasil Hexa 2006<br>\n",
    "    String 2: Brasil! Hexa 2006!<br>\n",
    "    Tamanho de \"Brasil Hexa 2006\": 16 caracteres<br>\n",
    "    Tamanho de \"Brasil! Hexa 2006!\": 18 caracteres<br>\n",
    "    As duas strings são de tamanhos diferentes.<br>\n",
    "    As duas strings possuem conteúdo diferente.<br>"
   ]
  },
  {
   "cell_type": "code",
   "execution_count": 5,
   "id": "89f61c08",
   "metadata": {},
   "outputs": [
    {
     "name": "stdout",
     "output_type": "stream",
     "text": [
      "digite a primeira string: OLA\n",
      "digite a segunda string: OIE\n",
      "String 1:  OLA\n",
      "String 2:  OIE\n",
      "Tamanho de OLA: 3 caracteres \n",
      "Tamanho de OIE: 3 caracteres \n",
      "\n",
      "As duas strings são de tamanhos iguais\n",
      "As duas strings possuem conteúdo diferente\n"
     ]
    }
   ],
   "source": [
    "string_1 = input('digite a primeira string: ')\n",
    "string_2 = input('digite a segunda string: ')\n",
    "\n",
    "print('String 1: ', string_1)\n",
    "print('String 2: ', string_2)\n",
    "\n",
    "print('Tamanho de {}: {} caracteres \\nTamanho de {}: {} caracteres \\n'.format(string_1, len(string_1), string_2, len(string_2)))\n",
    "\n",
    "if len(string_1) == len(string_2):\n",
    "    print('As duas strings são de tamanhos iguais')\n",
    "    if string_1 != string_2:\n",
    "        print('As duas strings possuem conteúdo diferente')\n",
    "    else:\n",
    "        print('As duas strings possuem conteúdo igual')\n",
    "else:\n",
    "    print('As duas strings são de tamanhos e conteúdo diferentes')"
   ]
  },
  {
   "cell_type": "markdown",
   "id": "d3d07d62",
   "metadata": {},
   "source": [
    "3. Nome ao contrário em maiúsculas. Faça um programa que permita ao usuário digitar o seu nome e em seguida mostre o nome do usuário de trás para frente utilizando somente letras maiúsculas. Dica: lembre−se que ao informar o nome o usuário pode digitar letras maiúsculas ou minúsculas.\n",
    "\n"
   ]
  },
  {
   "cell_type": "code",
   "execution_count": 12,
   "id": "531ad30a",
   "metadata": {},
   "outputs": [
    {
     "name": "stdout",
     "output_type": "stream",
     "text": [
      "digite seu nome: elisa\n",
      "ASILE\n"
     ]
    }
   ],
   "source": [
    "nome = input('digite seu nome: ')\n",
    "nome = nome.upper()[::-1]\n",
    "print(nome)"
   ]
  },
  {
   "cell_type": "markdown",
   "id": "41ad0c6a",
   "metadata": {},
   "source": [
    "N4. ome na vertical. Faça um programa que solicite o nome do usuário e imprima-o na vertical.\n",
    "\n"
   ]
  },
  {
   "cell_type": "code",
   "execution_count": 13,
   "id": "90e606f4",
   "metadata": {},
   "outputs": [
    {
     "name": "stdout",
     "output_type": "stream",
     "text": [
      "digite seu nome: elisa\n",
      "e\n",
      "l\n",
      "i\n",
      "s\n",
      "a\n"
     ]
    }
   ],
   "source": [
    "nome = input('digite seu nome: ')\n",
    "for i in range(len(nome)):\n",
    "    print(nome[i])"
   ]
  },
  {
   "cell_type": "markdown",
   "id": "91a525c4",
   "metadata": {},
   "source": [
    "5. Nome na vertical em escada. Modifique o programa anterior de forma a mostrar o nome em formato de escada.\n",
    "\n"
   ]
  },
  {
   "cell_type": "code",
   "execution_count": 16,
   "id": "0122e9ba",
   "metadata": {},
   "outputs": [
    {
     "name": "stdout",
     "output_type": "stream",
     "text": [
      "digite seu nome: erico\n",
      "e\n",
      "er\n",
      "eri\n",
      "eric\n",
      "erico\n"
     ]
    }
   ],
   "source": [
    "nome = input('digite seu nome: ')\n",
    "nome_escada = ''\n",
    "for i in range(len(nome)):\n",
    "    nome_escada = nome_escada + nome[i]\n",
    "    print(nome_escada)\n",
    "    "
   ]
  },
  {
   "cell_type": "code",
   "execution_count": 25,
   "id": "b7095dfe",
   "metadata": {},
   "outputs": [
    {
     "name": "stdout",
     "output_type": "stream",
     "text": [
      "digite seu nome: elisa\n",
      "elisa\n",
      "elis\n",
      "eli\n",
      "el\n",
      "e\n"
     ]
    }
   ],
   "source": [
    "nome = input('digite seu nome: ')\n",
    "num = len(nome)\n",
    "for i in range(len(nome)):\n",
    "    print(nome[:num])\n",
    "    num = num - 1"
   ]
  },
  {
   "cell_type": "markdown",
   "id": "24b01f14",
   "metadata": {},
   "source": [
    "6. Data por extenso. Faça um programa que solicite a data de nascimento (dd/mm/aaaa) do usuário e imprima a data com o nome do mês por extenso. <br><br>\n",
    "\n",
    "    Data de Nascimento: 29/10/1973<br>\n",
    "    Você nasceu em  29 de Outubro de 1973.\n",
    "\n"
   ]
  },
  {
   "cell_type": "code",
   "execution_count": 6,
   "id": "24bb6017",
   "metadata": {},
   "outputs": [
    {
     "name": "stdout",
     "output_type": "stream",
     "text": [
      "digite sua data de nascimento(dd/mm/aaaa): 10/03/1999\n",
      "10 de Março de 1999\n"
     ]
    }
   ],
   "source": [
    "data = input('digite sua data de nascimento(dd/mm/aaaa): ')\n",
    "lista_data = data.split('/')\n",
    "\n",
    "meses = [\"Janeiro\", \"Fevereiro\", \"Março\", \"Abril\", \"Maio\",\n",
    " \"Junho\", \"Julho\", \"Agosto\", \"Setembro\", \"Outubro\",\n",
    " \"Novembro\", \"Dezembro\"]\n",
    "mes_escrito = meses[int(lista_data[1])-1]\n",
    "print(lista_data[0] + \" de \" + mes_escrito + \" de \" + lista_data[2])"
   ]
  },
  {
   "cell_type": "markdown",
   "id": "1bc29b54",
   "metadata": {},
   "source": [
    "7. Conta espaços e vogais. Dado uma string com uma frase informada pelo usuário (incluindo espaços em branco), conte: <br>\n",
    "quantos espaços em branco existem na frase.<br>\n",
    "quantas vezes aparecem as vogais a, e, i, o, u.<br>"
   ]
  },
  {
   "cell_type": "code",
   "execution_count": 14,
   "id": "4c3cf2ee",
   "metadata": {},
   "outputs": [
    {
     "name": "stdout",
     "output_type": "stream",
     "text": [
      "digite um texto: testando um texto\n",
      "a quantidade de vogais que possui é 6 e a quantidade de espaços brancos é 2\n"
     ]
    }
   ],
   "source": [
    "texto = input(\"digite um texto: \")\n",
    "numero_espacos = texto.count(\" \")\n",
    "numero_vogais = 0\n",
    "vogais = ['a', 'e', 'i', 'o', 'u']\n",
    "\n",
    "for i in texto:\n",
    "    if i in vogais:\n",
    "        numero_vogais = numero_vogais + 1\n",
    "        \n",
    "print (\"a quantidade de vogais que possui é {} e a quantidade de espaços brancos é {}\".format(numero_vogais, numero_espacos))\n"
   ]
  },
  {
   "cell_type": "markdown",
   "id": "622d6b6c",
   "metadata": {},
   "source": [
    "8. Palíndromo. Um palíndromo é uma seqüência de caracteres cuja leitura é idêntica se feita da direita para esquerda ou vice−versa. Por exemplo: OSSO e OVO são palíndromos. Em textos mais complexos os espaços e pontuação são ignorados. A frase SUBI NO ONIBUS é o exemplo de uma frase palíndroma onde os espaços foram ignorados. Faça um programa que leia uma seqüência de caracteres, mostre−a e diga se é um palíndromo ou não.\n"
   ]
  },
  {
   "cell_type": "code",
   "execution_count": 4,
   "id": "aa025027",
   "metadata": {},
   "outputs": [
    {
     "name": "stdout",
     "output_type": "stream",
     "text": [
      "digite um texto: osso\n",
      "é um palíndromo\n"
     ]
    }
   ],
   "source": [
    "texto = input('digite um texto: ')\n",
    "texto_inverso = texto[::-1]\n",
    "\n",
    "texto = texto.replace(' ','')\n",
    "texto_inverso = texto_inverso.replace(' ','')\n",
    "\n",
    "if (texto == texto_inverso):\n",
    "    print('é um palíndromo')\n",
    "else:\n",
    "    print('não é um palíndromo')"
   ]
  },
  {
   "cell_type": "markdown",
   "id": "0cf3b7ea",
   "metadata": {},
   "source": [
    "10. Número por extenso. Escreva um programa que solicite ao usuário a digitação de um número até 99 e imprima-o na tela por extenso."
   ]
  },
  {
   "cell_type": "code",
   "execution_count": 9,
   "id": "18e7d813",
   "metadata": {},
   "outputs": [
    {
     "name": "stdout",
     "output_type": "stream",
     "text": [
      "insira um número:\n",
      "55\n",
      "cinquenta e cinco\n"
     ]
    }
   ],
   "source": [
    "def converter(num):\n",
    "    dicionario = {\n",
    "        0: 'zero', 1: 'um', 2: 'dois', 3: 'três', 4: 'quatro', 5: 'cinco',\n",
    "        6: 'seis', 7: 'sete', 8: 'oito', 9: 'nove', 10: 'dez',\n",
    "        11: 'onze', 12: 'doze', 13: 'treze', 14: 'quatorze', 15: 'quinze',\n",
    "        16: 'dezesseis', 17: 'dezessete', 18: 'dezoito', 19: 'dezenove', 20: 'vinte',\n",
    "        30: 'trinta', 40: 'quarenta', 50: 'cinquenta', 60: 'sessenta', 70: 'setenta',\n",
    "        80: 'oitenta', 90: 'noventa',\n",
    "    }\n",
    "    \n",
    "\n",
    "    if num > 99 or num < 0:\n",
    "        raise ValueError('o número deve estar entre 0 e 99')\n",
    "\n",
    "    if num < 20 or num % 10 == 0:\n",
    "        return dicionario.get(num)\n",
    "\n",
    "    decimal = num // 10 * 10\n",
    "    unidade = num % 10\n",
    "    extenso = f'{dicionario.get(decimal)} e {dicionario.get(unidade)}'\n",
    "    return extenso\n",
    "\n",
    "if __name__ == '__main__':\n",
    "    print('insira um número:')\n",
    "    num = int(input())\n",
    "    num_extenso = converter(num)\n",
    "    print(num_extenso)"
   ]
  },
  {
   "cell_type": "markdown",
   "id": "a7b14d6b",
   "metadata": {},
   "source": [
    "12. Valida e corrige número de telefone. Faça um programa que leia um número de telefone, e corrija o número no caso deste conter somente 7 dígitos, acrescentando o '3' na frente. O usuário pode informar o número com ou sem o traço separador.\n"
   ]
  },
  {
   "cell_type": "code",
   "execution_count": 13,
   "id": "ed2c2caa",
   "metadata": {},
   "outputs": [
    {
     "name": "stdout",
     "output_type": "stream",
     "text": [
      "digite o telefone: 3235369\n",
      "Telefone possui 7 dígitos. Vou acrescentar o digito três na frente:  33235369\n"
     ]
    }
   ],
   "source": [
    "numero = input('digite o telefone: ')\n",
    "\n",
    "if len(str(numero))==7:\n",
    "    numeroFinal= '3' + str(numero)\n",
    "    print('Telefone possui 7 dígitos. Vou acrescentar o digito três na frente: ',numeroFinal)\n",
    "elif len(str(numero))==8:\n",
    "    numeroFinal=numero\n",
    "    print('Telefone possui 8 dígitos: ',numero)\n",
    "else:\n",
    "    print('numero inválido')\n"
   ]
  }
 ],
 "metadata": {
  "kernelspec": {
   "display_name": "Python 3 (ipykernel)",
   "language": "python",
   "name": "python3"
  },
  "language_info": {
   "codemirror_mode": {
    "name": "ipython",
    "version": 3
   },
   "file_extension": ".py",
   "mimetype": "text/x-python",
   "name": "python",
   "nbconvert_exporter": "python",
   "pygments_lexer": "ipython3",
   "version": "3.8.10"
  }
 },
 "nbformat": 4,
 "nbformat_minor": 5
}
