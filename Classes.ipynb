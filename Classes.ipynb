{
 "cells": [
  {
   "cell_type": "markdown",
   "id": "4e9d0d7b",
   "metadata": {},
   "source": [
    "### Classes"
   ]
  },
  {
   "cell_type": "markdown",
   "id": "bfb4c9aa",
   "metadata": {},
   "source": [
    "1. Classe Bola: Crie uma classe que modele uma bola: <br><br>\n",
    "a. Atributos: Cor, circunferência, material<br>\n",
    "b. Métodos: trocaCor e mostraCor"
   ]
  },
  {
   "cell_type": "code",
   "execution_count": 11,
   "id": "56767f92",
   "metadata": {},
   "outputs": [
    {
     "name": "stdout",
     "output_type": "stream",
     "text": [
      "verde\n",
      "52\n",
      "borracha\n",
      "amarelo\n"
     ]
    }
   ],
   "source": [
    "class Bola():\n",
    "    def __init__(self, cor, circunf, material):\n",
    "        self.cor = cor\n",
    "        self.circunf = circunf\n",
    "        self.material = material\n",
    "    def trocaCor(self, cor):\n",
    "        self.cor = cor\n",
    "    def mostraCor(self):\n",
    "        return self.cor\n",
    "    \n",
    "bola = Bola('verde', 52, 'borracha')\n",
    "\n",
    "print(bola.cor)\n",
    "print(bola.circunf)\n",
    "print(bola.material)\n",
    "\n",
    "bola.trocaCor('amarelo')\n",
    "\n",
    "print(bola.mostraCor())\n",
    "\n",
    "    "
   ]
  },
  {
   "cell_type": "markdown",
   "id": "59a08774",
   "metadata": {},
   "source": [
    "2. Classe Quadrado: Crie uma classe que modele um quadrado: <br><br>\n",
    "a. Atributos: Tamanho do lado<br>\n",
    "b. Métodos: Mudar valor do Lado, Retornar valor do Lado e calcular Área;"
   ]
  },
  {
   "cell_type": "code",
   "execution_count": 23,
   "id": "9c798f57",
   "metadata": {},
   "outputs": [
    {
     "name": "stdout",
     "output_type": "stream",
     "text": [
      "5\n",
      "6\n",
      "36\n"
     ]
    }
   ],
   "source": [
    "class Quadrado:\n",
    "    def __init__(self, tamanho_lado):\n",
    "        self.tamanho_lado = tamanho_lado\n",
    "    def mudarLado(self, tamanho_lado):\n",
    "        self.tamanho_lado = tamanho_lado\n",
    "    def retornaValor(self):\n",
    "        return self.tamanho_lado\n",
    "    def calculaArea(self):\n",
    "        return self.tamanho_lado**2\n",
    "        \n",
    "quad = Quadrado(5)\n",
    "\n",
    "print(quad.tamanho_lado)\n",
    "\n",
    "quad.mudarLado(6)\n",
    "print(quad.retornaValor())\n",
    "\n",
    "print(quad.calculaArea())\n",
    "\n"
   ]
  },
  {
   "cell_type": "markdown",
   "id": "0a60c261",
   "metadata": {},
   "source": [
    "3. Classe Retangulo: Crie uma classe que modele um retangulo:<br><br>\n",
    "a. Atributos: LadoA, LadoB (ou Comprimento e Largura, ou Base e Altura, a\n",
    "escolher)<br>\n",
    "b. Métodos: Mudar valor dos lados, Retornar valor dos lados, calcular Área e\n",
    "calcular Perímetro;<br>\n",
    "c. Crie um programa que utilize esta classe. Ele deve pedir ao usuário que\n",
    "informe as medidades de um local. Depois, deve criar um objeto com as\n",
    "medidas e calcular a quantidade de pisos e de rodapés necessárias para o\n",
    "local."
   ]
  },
  {
   "cell_type": "code",
   "execution_count": 30,
   "id": "f4ce3f3b",
   "metadata": {},
   "outputs": [
    {
     "name": "stdout",
     "output_type": "stream",
     "text": [
      "informe a medida do comprimento (lado A): 5\n",
      "informe a medida da largura (lado B): 4\n",
      "Será preciso 20.0m quadrados de pisos e 18.0m de rodapé\n"
     ]
    }
   ],
   "source": [
    "class Retangulo:\n",
    "    def __init__(self, ladoA, ladoB):\n",
    "        self.ladoA = ladoA\n",
    "        self.ladoB = ladoB\n",
    "        \n",
    "    def mudarLados(self, ladoA, ladoB):\n",
    "        self.ladoA = ladoA\n",
    "        self.ladoB = ladoB\n",
    "    def retorna(self):\n",
    "        return self.ladoA, self.ladoB\n",
    "    def calcArea(self):\n",
    "        return self.ladoA * self.ladoB\n",
    "    def perimetro(self):\n",
    "        return (2 * self.ladoA) + (2 * self.ladoB)\n",
    "    \n",
    "l1 = float(input('informe a medida do comprimento (lado A): '))\n",
    "l2 = float(input('informe a medida da largura (lado B): '))\n",
    "ret = Retangulo(l1, l2)\n",
    "\n",
    "print('Será preciso {}m quadrados de pisos e {}m de rodapé'.format(ret.calcArea(), ret.perimetro()))\n",
    "    "
   ]
  },
  {
   "cell_type": "markdown",
   "id": "69e0a460",
   "metadata": {},
   "source": [
    "4. Classe Pessoa: Crie uma classe que modele uma pessoa:<br><br>\n",
    "a. Atributos: nome, idade, peso e altura<br>\n",
    "b. Métodos: Envelhercer, engordar, emagrecer, crescer. Obs: Por padrão, a cada\n",
    "ano que nossa pessoa envelhece, sendo a idade dela menor que 21 anos, ela\n",
    "deve crescer 0,5 cm."
   ]
  },
  {
   "cell_type": "code",
   "execution_count": 36,
   "id": "8fd2a78e",
   "metadata": {},
   "outputs": [
    {
     "name": "stdout",
     "output_type": "stream",
     "text": [
      "None\n",
      "{'nome': 'Maria', 'idade': 16, 'peso': 55, 'altura': 150.5}\n",
      "{'nome': 'Maria', 'idade': 16, 'peso': 58, 'altura': 155.5}\n"
     ]
    }
   ],
   "source": [
    "class Pessoa:\n",
    "    def __init__(self, nome, idade, peso, altura):\n",
    "        self.nome = nome\n",
    "        self.idade = idade\n",
    "        self.peso = peso\n",
    "        self.altura = altura\n",
    "    def envelhecer(self, anos):\n",
    "        self.idade = self.idade + anos\n",
    "        if self.idade < 21:\n",
    "            self.altura = self.altura + 0.5\n",
    "    def engordar(self, peso):\n",
    "        self.peso = self.peso + peso\n",
    "    def emagrecer(self, peso):\n",
    "        self.peso = self.peso - peso\n",
    "    def crescer(self, cm):\n",
    "        self.altura = self.altura + cm\n",
    "        \n",
    "m = Pessoa('Maria', 15, 55, 150)\n",
    "\n",
    "print(m.envelhecer(1))\n",
    "print(vars(m))\n",
    "\n",
    "m.engordar(5)\n",
    "m.emagrecer(2)\n",
    "m.crescer(5)\n",
    "\n",
    "print(vars(m))\n",
    "        "
   ]
  },
  {
   "cell_type": "markdown",
   "id": "ee82e66e",
   "metadata": {},
   "source": [
    "5. Classe Conta Corrente: Crie uma classe para implementar uma conta corrente. A classe deve possuir os seguintes atributos: número da conta, nome do correntista e saldo. Os métodos são os seguintes: alterarNome, depósito e saque; No construtor, saldo é opcional, com valor default zero e os demais atributos são obrigatórios."
   ]
  },
  {
   "cell_type": "code",
   "execution_count": 10,
   "id": "29b1c77b",
   "metadata": {},
   "outputs": [
    {
     "name": "stdout",
     "output_type": "stream",
     "text": [
      "{'numConta': 4518, 'nome': 'Caio', 'saldo': 0}\n",
      "{'numConta': 4518, 'nome': 'Katia', 'saldo': 20}\n"
     ]
    }
   ],
   "source": [
    "class ContaCorrente:\n",
    "    def __init__(self, numConta, nome, saldo = 0):\n",
    "        self.numConta = numConta\n",
    "        self.nome = nome\n",
    "        self.saldo = saldo\n",
    "    def alterarNome(self, nome):\n",
    "        self.nome = nome\n",
    "    def deposito(self, dep):\n",
    "        self.saldo = self.saldo + dep\n",
    "    def saque(self, saque):\n",
    "        self.saldo = self.saldo - saque\n",
    "conta1 = ContaCorrente(4518, 'Caio')\n",
    "\n",
    "print(vars(conta1))\n",
    "\n",
    "conta1.alterarNome('Katia')\n",
    "conta1.deposito(25)\n",
    "conta1.saque(5)\n",
    "      \n",
    "print(vars(conta1))"
   ]
  },
  {
   "cell_type": "markdown",
   "id": "1814eb7f",
   "metadata": {},
   "source": [
    "6. Classe TV: Faça um programa que simule um televisor criando-o como um objeto. O usuário deve ser capaz de informar o número do canal e aumentar ou diminuir o volume. Certifique-se de que o número do canal e o nível do volume permanecem dentro de faixas válidas."
   ]
  },
  {
   "cell_type": "code",
   "execution_count": 3,
   "id": "de6b7007",
   "metadata": {},
   "outputs": [
    {
     "name": "stdout",
     "output_type": "stream",
     "text": [
      "digite o canal desejado:500\n",
      "canal inválido\n",
      "deseja aumentar (+) ou diminuir (-) o volume?+\n"
     ]
    },
    {
     "data": {
      "text/plain": [
       "{'canal': 5, 'volume': 1}"
      ]
     },
     "execution_count": 3,
     "metadata": {},
     "output_type": "execute_result"
    }
   ],
   "source": [
    "class TV:\n",
    "    def __init__(self, canal, volume = 0):\n",
    "        self.canal = canal\n",
    "        self.volume = volume\n",
    "        \n",
    "    def mudaCanal(self):\n",
    "        numero = input('digite o canal desejado:')\n",
    "        \n",
    "        if numero.isdigit():\n",
    "            numero = int(numero)\n",
    "            if numero >= 0 and numero <=100:\n",
    "                self.canal = numero\n",
    "            else:\n",
    "                print('canal inválido')\n",
    "        else:\n",
    "            print('digite um número')\n",
    "            \n",
    "    def mudaVol(self):\n",
    "        vol = input('deseja aumentar (+) ou diminuir (-) o volume?')\n",
    "        \n",
    "        if vol == '+':\n",
    "            self.volume = self.volume + 1\n",
    "            if self.volume > 100:\n",
    "                self.volume = self.volume - 1\n",
    "        elif vol == '-':\n",
    "            self.volume = self.volume - 1\n",
    "            if self.volume < 0:\n",
    "                self.volume = self.volume + 1\n",
    "        else:\n",
    "            print('erro, tente novamente')\n",
    "                \n",
    "\n",
    "m = TV(5, 0)\n",
    "m.mudaCanal()\n",
    "\n",
    "m.mudaVol()\n",
    "\n",
    "vars(m)"
   ]
  },
  {
   "cell_type": "markdown",
   "id": "6dd44a30",
   "metadata": {},
   "source": [
    "7. Classe Bichinho Virtual: Crie uma classe que modele um Tamagushi (Bichinho Eletrônico): <br><br>\n",
    "\n",
    "a. Atributos: Nome, Fome, Saúde e Idade <br>\n",
    "b. Métodos: Alterar Nome, Fome, Saúde e Idade; Retornar Nome, Fome, Saúde e Idade <br><br>\n",
    "Obs: Existe mais uma informação que devemos levar em consideração, o Humor do nosso tamagushi, este humor é uma combinação entre os atributos Fome e Saúde, ou seja, um campo calculado, então não devemos criar um atributo para armazenar esta informação por que ela pode ser calculada a qualquer momento.\n"
   ]
  },
  {
   "cell_type": "code",
   "execution_count": 23,
   "id": "faa8ef4a",
   "metadata": {},
   "outputs": [
    {
     "data": {
      "text/plain": [
       "25"
      ]
     },
     "execution_count": 23,
     "metadata": {},
     "output_type": "execute_result"
    }
   ],
   "source": [
    "class Bichinho:\n",
    "    def __init__(self, nome, fome, saude, idade):\n",
    "        self.nome = nome\n",
    "        self.fome = fome\n",
    "        self.saude = saude\n",
    "        self.idade = idade\n",
    "    def altNome(self, nome):\n",
    "        self.nome = nome        \n",
    "    def altFome(self, fome):\n",
    "        self.fome = fome\n",
    "    def altSaude(self, saude):\n",
    "        self.saude = saude\n",
    "    def altIdade(self, idade):\n",
    "        self.idade = idade\n",
    "    def retornarNome(self):\n",
    "        return self.nome\n",
    "    def retornarFome(self):\n",
    "        return self.fome    \n",
    "    def retornarSaude(self):\n",
    "        return self.saude    \n",
    "    def retornarIdade(self, idade):\n",
    "        return self.idade    \n",
    "    def retornarHumor(self):\n",
    "        fome = int(self.fome)\n",
    "        saude = int(self.saude)\n",
    "        return fome * saude\n",
    "    \n",
    "b = Bichinho('Tamagoshi',5,5,5)\n",
    "    \n",
    "b.retornarHumor()"
   ]
  },
  {
   "cell_type": "markdown",
   "id": "82160443",
   "metadata": {},
   "source": [
    "8.  Classe Macaco:Desenvolva uma classe Macaco, que possua os atributos nome e bucho (estomago) e pelo menos os métodos comer(), verBucho() e digerir().Faça um programa ou teste interativamente, criando pelo menos dois macacos, alimentando-os com pelo menos 3 alimentos diferentes e verificando o conteúdo do estomago a cada refeição. Experimente fazer com que um macaco coma o outro. É possível criar um macaco canibal?"
   ]
  },
  {
   "cell_type": "code",
   "execution_count": 28,
   "id": "8246c6ec",
   "metadata": {},
   "outputs": [
    {
     "name": "stdout",
     "output_type": "stream",
     "text": [
      "Bucho:  ['Banana']\n",
      "Bucho:  ['Banana', 'Laranja']\n",
      "Bucho:  ['Laranja']\n",
      "Bucho:  ['Figo', 'Limao', <__main__.Macaco object at 0x7fa79848a7f0>]\n"
     ]
    }
   ],
   "source": [
    "class Macaco:\n",
    "    def __init__(self, nome):\n",
    "        self.nome = nome\n",
    "        self.bucho = []\n",
    "    def comer(self, comida):\n",
    "        self.bucho.append(comida)\n",
    "    def verBucho(self):\n",
    "        print (\"Bucho: \" , self.bucho)\n",
    "    def digerir(self):\n",
    "        if (len(self.bucho) > 0):\n",
    "            self.bucho.pop(0)\n",
    "\n",
    "m1 = Macaco(\"Macaco 1\")\n",
    "m2 = Macaco(\"Macaco 2\")\n",
    "\n",
    "m1.comer(\"Banana\")\n",
    "m1.verBucho()\n",
    "m1.comer(\"Laranja\")\n",
    "m1.verBucho()\n",
    "m1.digerir()\n",
    "m1.verBucho()\n",
    "\n",
    "m2.comer(\"Figo\")\n",
    "m2.comer(\"Limao\")\n",
    "m2.comer(m1)\n",
    "m2.verBucho()"
   ]
  },
  {
   "cell_type": "markdown",
   "id": "7717a89a",
   "metadata": {},
   "source": [
    "9. Classe Ponto e Retangulo"
   ]
  },
  {
   "cell_type": "code",
   "execution_count": 26,
   "id": "8db060e2",
   "metadata": {},
   "outputs": [
    {
     "name": "stdout",
     "output_type": "stream",
     "text": [
      "Entre a coordenada x do canto inferior esquerdo: 5\n",
      "Entre a coordenada y do canto inferior esquerdo: 4\n",
      "Entre a coordenada x do canto superior direito: 6\n",
      "Entre a coordenada y do canto superior direito: 7\n",
      "Ponto central e X=5.5Y=5.5\n"
     ]
    }
   ],
   "source": [
    "class Ponto:\n",
    "    def __init__(self, x, y):\n",
    "        self.x = x\n",
    "        self.y = y\n",
    "        \n",
    "class Retangulo:\n",
    "    def __init__(self, canto1, canto2):\n",
    "        self.canto1 = canto1\n",
    "        self.canto2 = canto2\n",
    "    def centro(self):\n",
    "        x_centro = (self.canto1.x + self.canto2.x) / 2.0\n",
    "        y_centro = (self.canto1.y + self.canto2.y) / 2.0\n",
    "        return \"X=\" + str(x_centro) + \"Y=\" + str(y_centro)\n",
    "    \n",
    "x1 = float(input(\"Entre a coordenada x do canto inferior esquerdo: \"))\n",
    "y1 = float(input(\"Entre a coordenada y do canto inferior esquerdo: \"))\n",
    "\n",
    "canto1 = Ponto(x1, y1)\n",
    "\n",
    "x2 = float(input(\"Entre a coordenada x do canto superior direito: \"))\n",
    "y2 = float(input(\"Entre a coordenada y do canto superior direito: \"))\n",
    "\n",
    "canto2 = Ponto(x2, y2)\n",
    "\n",
    "ret = Retangulo(canto1, canto2)\n",
    "\n",
    "print (\"Ponto central e %s\" % ret.centro())"
   ]
  },
  {
   "cell_type": "markdown",
   "id": "a7308d28",
   "metadata": {},
   "source": [
    "10. Classe Bomba de Combustível"
   ]
  },
  {
   "cell_type": "code",
   "execution_count": 27,
   "id": "5f79ad1c",
   "metadata": {},
   "outputs": [
    {
     "name": "stdout",
     "output_type": "stream",
     "text": [
      "30.0\n",
      "470.0\n",
      "150\n",
      "440.0\n"
     ]
    }
   ],
   "source": [
    "class BombaCombustivel:\n",
    "    def __init__(self, tipoCombustivel, valorLitro, quantidadeCombustivel):\n",
    "        self.tipoCombustivel = tipoCombustivel\n",
    "        self.valorLitro = valorLitro\n",
    "        self.quantidadeCombustivel = quantidadeCombustivel\n",
    "    def alterarValor(self, valorLitro):\n",
    "        self.valorLitro = valorLitro\n",
    "    def alterarCombustivel(self, tipoCombustivel):\n",
    "        self.tipoCombustivel = tipoCombustivel\n",
    "    def alterarQuantidadeCombustivel(self, quantidadeCombustivel):\n",
    "        self.quantidadeCombustivel = quantidadeCombustivel\n",
    "    def abastecerPorValor(self, valor):\n",
    "        temp = valor/self.valorLitro\n",
    "        self.alterarQuantidadeCombustivel(self.quantidadeCombustivel -temp)\n",
    "        return temp\n",
    "    def abastecerPorLitro(self, qtd):\n",
    "        temp2 = qtd * self.valorLitro\n",
    "        self.alterarQuantidadeCombustivel(self.quantidadeCombustivel -qtd)\n",
    "        return temp2\n",
    "    \n",
    "a1 = BombaCombustivel(\"Gasolina\", 5, 500)\n",
    "\n",
    "print(a1.abastecerPorValor(150))\n",
    "print(a1.quantidadeCombustivel)\n",
    "print(a1.abastecerPorLitro(30))\n",
    "print(a1.quantidadeCombustivel)"
   ]
  },
  {
   "cell_type": "markdown",
   "id": "cc654748",
   "metadata": {},
   "source": [
    "11. Classe Carro"
   ]
  },
  {
   "cell_type": "code",
   "execution_count": 32,
   "id": "d6cb0fdf",
   "metadata": {},
   "outputs": [
    {
     "name": "stdout",
     "output_type": "stream",
     "text": [
      "{'consumo': 10, 'nivelCombustivel': 10.0}\n",
      "10.0\n"
     ]
    }
   ],
   "source": [
    "class Carro:\n",
    "    def __init__(self, consumo):\n",
    "        self.consumo = consumo\n",
    "        self.nivelCombustivel = 0\n",
    "    def andar(self, distancia):\n",
    "        temp = distancia/self.consumo\n",
    "        self.nivelCombustivel -= temp\n",
    "    def obterGasolina(self):\n",
    "        return self.nivelCombustivel\n",
    "    def adicionarGasolina(self, qtd):\n",
    "        self.nivelCombustivel += qtd\n",
    "\n",
    "car = Carro(10)\n",
    "car.adicionarGasolina(60)\n",
    "car.andar(500)\n",
    "\n",
    "print(vars(car))\n",
    "print(car.obterGasolina())"
   ]
  },
  {
   "cell_type": "markdown",
   "id": "f9e6899d",
   "metadata": {},
   "source": [
    "12. Classe Conta de Investimento"
   ]
  },
  {
   "cell_type": "code",
   "execution_count": 35,
   "id": "81694c12",
   "metadata": {},
   "outputs": [
    {
     "name": "stdout",
     "output_type": "stream",
     "text": [
      "{'numero': 365, 'nome': 'Maria', 'saldo': 5624, 'taxaJuros': 10}\n",
      "{'numero': 365, 'nome': 'Maria', 'saldo': 9057.50824, 'taxaJuros': 10}\n"
     ]
    }
   ],
   "source": [
    "class Conta:\n",
    "    def __init__(self, numero, nome, saldo=0):\n",
    "        self.numero = numero\n",
    "        self.nome = nome\n",
    "        self.saldo = saldo\n",
    "    def setNome(self, nome):\n",
    "        self.nome = nome\n",
    "    def deposito(self, valor):\n",
    "        self.saldo += valor\n",
    "    def saque(self, valor):\n",
    "        if (self.saldo >= valor):\n",
    "            self.saldo -= valor\n",
    "            \n",
    "class contaInvestimento(Conta):\n",
    "    def __init__(self, numero, nome, saldo, taxaJuros):\n",
    "        Conta.__init__(self, numero, nome, saldo)\n",
    "        self.taxaJuros = taxaJuros\n",
    "    def adicioneJuros(self):\n",
    "        self.saldo += (self.saldo * self.taxaJuros/100)\n",
    "\n",
    "poupanca = contaInvestimento(365, \"Maria\", 5624, 10)\n",
    "\n",
    "print(vars(poupanca))\n",
    "\n",
    "poupanca.adicioneJuros()\n",
    "poupanca.adicioneJuros()\n",
    "poupanca.adicioneJuros()\n",
    "poupanca.adicioneJuros()\n",
    "poupanca.adicioneJuros()\n",
    "\n",
    "print(vars(poupanca))"
   ]
  },
  {
   "cell_type": "markdown",
   "id": "bfcd0ab1",
   "metadata": {},
   "source": [
    "13. Classe Funcionário"
   ]
  },
  {
   "cell_type": "code",
   "execution_count": 36,
   "id": "8a2937d1",
   "metadata": {},
   "outputs": [
    {
     "name": "stdout",
     "output_type": "stream",
     "text": [
      "Nome:  Mariana , Salario 2000\n"
     ]
    }
   ],
   "source": [
    "class Funcionario():\n",
    "    def __init__(self, nome, salario):\n",
    "        self.nome = nome\n",
    "        self.salario = salario\n",
    "    def getNome(self):\n",
    "        return self.nome\n",
    "    def getSalario(self):\n",
    "        return self.salario\n",
    "    \n",
    "funcionario = Funcionario(\"Mariana\", 2000)\n",
    "\n",
    "print(\"Nome: \", funcionario.getNome(), \", Salario\", funcionario.getSalario())"
   ]
  },
  {
   "cell_type": "markdown",
   "id": "e7ca0fda",
   "metadata": {},
   "source": [
    "14. Aprimore a classe do exercício anterior para adicionar o método aumentarSalario (porcentualDeAumento) que aumente o salário do funcionário em uma certa porcentagem."
   ]
  },
  {
   "cell_type": "code",
   "execution_count": 38,
   "id": "453e0960",
   "metadata": {},
   "outputs": [
    {
     "name": "stdout",
     "output_type": "stream",
     "text": [
      "Nome:  Mariana , Salario 2000\n",
      "Nome:  Mariana , Salario 2100.0\n"
     ]
    }
   ],
   "source": [
    "class Funcionario():\n",
    "    def __init__(self, nome, salario):\n",
    "        self.nome = nome\n",
    "        self.salario = salario\n",
    "    def getNome(self):\n",
    "        return self.nome\n",
    "    def getSalario(self):\n",
    "        return self.salario\n",
    "    def aumentarSalario(self, porcentagemDeAumento=0):\n",
    "        self.salario += self.salario * (porcentagemDeAumento)/100\n",
    "        \n",
    "funcionario = Funcionario(\"Mariana\", 2000)\n",
    "\n",
    "print(\"Nome: \", funcionario.getNome(), \", Salario\", funcionario.getSalario())\n",
    "\n",
    "funcionario.aumentarSalario(5)\n",
    "\n",
    "print(\"Nome: \", funcionario.getNome(), \", Salario\", funcionario.getSalario())"
   ]
  },
  {
   "cell_type": "markdown",
   "id": "e69b5201",
   "metadata": {},
   "source": [
    "15. Classe Bichinho Virtual++:Melhore o programa do bichinho virtual, permitindo que o usuário especifique quanto de comida ele fornece ao bichinho e por quanto tempo ele brinca com o bichinho. Faça com que estes valores afetem quão rapidamente os níveis de fome e tédio caem."
   ]
  },
  {
   "cell_type": "code",
   "execution_count": 42,
   "id": "8b982011",
   "metadata": {},
   "outputs": [
    {
     "name": "stdout",
     "output_type": "stream",
     "text": [
      "25\n",
      "15\n",
      "18\n",
      "{'nome': 'Tamagoshi', 'fome': 3.5, 'saude': 6.0, 'idade': 5}\n"
     ]
    }
   ],
   "source": [
    "class Bichinho:\n",
    "    def __init__(self, nome, fome, saude, idade):\n",
    "        self.nome = nome\n",
    "        self.fome = fome\n",
    "        self.saude = saude\n",
    "        self.idade = idade\n",
    "    def altNome(self, nome):\n",
    "        self.nome = nome        \n",
    "    def altFome(self, fome):\n",
    "        self.fome = fome\n",
    "    def altSaude(self, saude):\n",
    "        self.saude = saude\n",
    "    def altIdade(self, idade):\n",
    "        self.idade = idade\n",
    "    def retornarNome(self):\n",
    "        return self.nome\n",
    "    def retornarFome(self):\n",
    "        return self.fome    \n",
    "    def retornarSaude(self):\n",
    "        return self.saude    \n",
    "    def retornarIdade(self, idade):\n",
    "        return self.idade    \n",
    "    def retornarHumor(self):\n",
    "        fome = int(self.fome)\n",
    "        saude = int(self.saude)\n",
    "        return fome * saude\n",
    "    def alimenta(self, quantidade):\n",
    "        if (quantidade >= 0) and (quantidade <= 100):\n",
    "            self.fome -= self.fome * (quantidade /100.0)\n",
    "    def brincar(self, quantidade):\n",
    "        if (quantidade >= 0) and (quantidade <= 100):\n",
    "            self.saude += self.saude * (quantidade / 100.0)\n",
    "            \n",
    "b = Bichinho(\"Tamagoshi\", 5,5,5)\n",
    "\n",
    "print(b.retornarHumor())\n",
    "\n",
    "b.alimenta(30)\n",
    "\n",
    "print(b.retornarHumor())\n",
    "\n",
    "b.brincar(20)\n",
    "\n",
    "print(b.retornarHumor())\n",
    "\n",
    "print(vars(b))"
   ]
  },
  {
   "cell_type": "markdown",
   "id": "93ea8d55",
   "metadata": {},
   "source": [
    "16. Crie uma \"porta escondida\" no programa do programa do bichinho virtual que mostre os valores exatos dos atributos do objeto. Consiga isto mostrando o objeto quando uma opção secreta, não listada no menu, for informada na escolha do usuário. Dica: acrescente um método especial str() à classe Bichinho."
   ]
  },
  {
   "cell_type": "code",
   "execution_count": 50,
   "id": "51cd0be9",
   "metadata": {},
   "outputs": [
    {
     "name": "stdout",
     "output_type": "stream",
     "text": [
      "25\n",
      "15\n",
      "18\n",
      "Nome: Tamagoshi, Fome: 3.5, Saude: 6.0\n"
     ]
    }
   ],
   "source": [
    "class Bichinho:\n",
    "    def __init__(self, nome, fome, saude, idade):\n",
    "        self.nome = nome\n",
    "        self.fome = fome\n",
    "        self.saude = saude\n",
    "        self.idade = idade\n",
    "    def altNome(self, nome):\n",
    "        self.nome = nome        \n",
    "    def altFome(self, fome):\n",
    "        self.fome = fome\n",
    "    def altSaude(self, saude):\n",
    "        self.saude = saude\n",
    "    def altIdade(self, idade):\n",
    "        self.idade = idade\n",
    "    def retornarNome(self):\n",
    "        return self.nome\n",
    "    def retornarFome(self):\n",
    "        return self.fome    \n",
    "    def retornarSaude(self):\n",
    "        return self.saude    \n",
    "    def retornarIdade(self, idade):\n",
    "        return self.idade    \n",
    "    def retornarHumor(self):\n",
    "        fome = int(self.fome)\n",
    "        saude = int(self.saude)\n",
    "        return fome * saude\n",
    "    def alimenta(self, quantidade):\n",
    "        if (quantidade >= 0) and (quantidade <= 100):\n",
    "            self.fome -= self.fome * (quantidade /100.0)\n",
    "    def brincar(self, quantidade):\n",
    "        if (quantidade >= 0) and (quantidade <= 100):\n",
    "            self.saude += self.saude * (quantidade / 100.0)\n",
    "    def str(self):\n",
    "        return (\"Nome: \"  + str(self.retornarNome()) + \", Fome: \" + str(self.retornarFome()) + \", Saude: \" + str(self.retornarSaude()) )\n",
    "                \n",
    "b = Bichinho(\"Tamagoshi\", 5,5,5)\n",
    "\n",
    "print(b.retornarHumor())\n",
    "\n",
    "b.alimenta(30)\n",
    "\n",
    "print(b.retornarHumor())\n",
    "\n",
    "b.brincar(20)\n",
    "\n",
    "print(b.retornarHumor())\n",
    "\n",
    "print(b.str())"
   ]
  },
  {
   "cell_type": "markdown",
   "id": "4a4fb2fe",
   "metadata": {},
   "source": [
    "17. Crie uma Fazenda de Bichinhos instanciando vários objetos bichinho e mantendo o controle deles através de uma lista. Imite o funcionamento do programa básico, mas ao invés de exigis que o usuário tome conta de um único bichinho, exija que ele tome conta da fazenda inteira. Cada opção do menu deveria permitir que o usuário executasse uma ação para todos os bichinhos (alimentar todos os bichinhos, brincar com todos os bichinhos, ou ouvir a todos os bichinhos). Para tornar o programa mais interessante, dê para cada bichinho um nivel inicial aleatório de fome e tédio"
   ]
  },
  {
   "cell_type": "code",
   "execution_count": null,
   "id": "64ee4992",
   "metadata": {},
   "outputs": [],
   "source": []
  }
 ],
 "metadata": {
  "kernelspec": {
   "display_name": "Python 3 (ipykernel)",
   "language": "python",
   "name": "python3"
  },
  "language_info": {
   "codemirror_mode": {
    "name": "ipython",
    "version": 3
   },
   "file_extension": ".py",
   "mimetype": "text/x-python",
   "name": "python",
   "nbconvert_exporter": "python",
   "pygments_lexer": "ipython3",
   "version": "3.8.10"
  }
 },
 "nbformat": 4,
 "nbformat_minor": 5
}
