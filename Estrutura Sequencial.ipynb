{
 "cells": [
  {
   "cell_type": "markdown",
   "id": "dd09ac1a",
   "metadata": {},
   "source": [
    "### Estrutura Sequencial"
   ]
  },
  {
   "cell_type": "markdown",
   "id": "774cd0d4",
   "metadata": {},
   "source": [
    "Exercício 1"
   ]
  },
  {
   "cell_type": "code",
   "execution_count": 8,
   "id": "0c02bd4a",
   "metadata": {},
   "outputs": [
    {
     "name": "stdout",
     "output_type": "stream",
     "text": [
      "Alo mundo\n"
     ]
    }
   ],
   "source": [
    "print('Alo mundo')"
   ]
  },
  {
   "cell_type": "markdown",
   "id": "f02eb44f",
   "metadata": {},
   "source": [
    "Exercício 2"
   ]
  },
  {
   "cell_type": "code",
   "execution_count": 9,
   "id": "06a3d1b6",
   "metadata": {},
   "outputs": [
    {
     "name": "stdout",
     "output_type": "stream",
     "text": [
      "Digite um número: 3\n",
      "O número informado foi 3\n"
     ]
    }
   ],
   "source": [
    "num = input('Digite um número: ')\n",
    "print('O número informado foi {}'.format(num))"
   ]
  },
  {
   "cell_type": "markdown",
   "id": "c539ca38",
   "metadata": {},
   "source": [
    "Exercício 3"
   ]
  },
  {
   "cell_type": "code",
   "execution_count": 1,
   "id": "11be1c0c",
   "metadata": {},
   "outputs": [
    {
     "name": "stdout",
     "output_type": "stream",
     "text": [
      "Digite o primeiro número: 2\n",
      "Digite o segundo número: 5\n",
      "7\n"
     ]
    }
   ],
   "source": [
    "num1 = int(input('Digite o primeiro número: '))\n",
    "num2 = int(input('Digite o segundo número: '))\n",
    "soma_num = num1 + num2\n",
    "print(soma_num)"
   ]
  },
  {
   "cell_type": "markdown",
   "id": "c7fe1fbd",
   "metadata": {},
   "source": [
    "Exercício 4"
   ]
  },
  {
   "cell_type": "code",
   "execution_count": 6,
   "id": "cceac4f5",
   "metadata": {},
   "outputs": [
    {
     "name": "stdout",
     "output_type": "stream",
     "text": [
      "digite a primeira nota: 2\n",
      "digite a segunda nota: 8\n",
      "digite a terceira nota: 7\n",
      "digite a quarta nota: 4\n",
      "5.25\n"
     ]
    }
   ],
   "source": [
    "n1 = int(input('digite a primeira nota: '))\n",
    "n2 = int(input('digite a segunda nota: '))\n",
    "n3 = int(input('digite a terceira nota: '))\n",
    "n4 = int(input('digite a quarta nota: '))\n",
    "media = (n1 + n2 + n3 + n4)/4\n",
    "print(media)"
   ]
  },
  {
   "cell_type": "code",
   "execution_count": 9,
   "id": "7f4efaa1",
   "metadata": {},
   "outputs": [
    {
     "name": "stdout",
     "output_type": "stream",
     "text": [
      "digite a quantidade de notas : 4\n",
      "8\n",
      "7\n",
      "4\n",
      "6\n",
      "A média das notas é igual a 6.25\n"
     ]
    }
   ],
   "source": [
    "import statistics\n",
    "\n",
    "notas = []\n",
    "\n",
    "n = int(input(\"digite a quantidade de notas : \"))\n",
    "\n",
    "for i in range(0, n):\n",
    "    nota = int(input())\n",
    "  \n",
    "    notas.append(nota)\n",
    "    \n",
    "media = statistics.mean(notas)\n",
    "print('A média das notas é igual a {}'.format(media))          "
   ]
  },
  {
   "cell_type": "markdown",
   "id": "b2684647",
   "metadata": {},
   "source": [
    "Exercício 5"
   ]
  },
  {
   "cell_type": "code",
   "execution_count": 12,
   "id": "f157d992",
   "metadata": {},
   "outputs": [
    {
     "name": "stdout",
     "output_type": "stream",
     "text": [
      "digite o valor em metros: 1.65\n",
      "O valor convertido em centímetros é igual a 165 cm\n"
     ]
    }
   ],
   "source": [
    "medida_metro = float(input('digite o valor em metros: '))\n",
    "medida_cm = int(medida_metro * 100)\n",
    "print('O valor convertido em centímetros é igual a {} cm'.format(medida_cm))"
   ]
  },
  {
   "cell_type": "markdown",
   "id": "3b35cc35",
   "metadata": {},
   "source": [
    "Exercício 6"
   ]
  },
  {
   "cell_type": "code",
   "execution_count": 17,
   "id": "8e454027",
   "metadata": {},
   "outputs": [
    {
     "name": "stdout",
     "output_type": "stream",
     "text": [
      "digite o raio do círculo: 5\n",
      "a área do círculo é igual a 15.71\n"
     ]
    }
   ],
   "source": [
    "import math\n",
    "\n",
    "raio = float(input('digite o raio do círculo: '))\n",
    "pi = math.pi\n",
    "area = raio * pi\n",
    "\n",
    "print('a área do círculo é igual a {:.2f}'.format(area))"
   ]
  },
  {
   "cell_type": "markdown",
   "id": "a70ec717",
   "metadata": {},
   "source": [
    "Exercício 7"
   ]
  },
  {
   "cell_type": "code",
   "execution_count": 19,
   "id": "091282e6",
   "metadata": {},
   "outputs": [
    {
     "name": "stdout",
     "output_type": "stream",
     "text": [
      "digite a medida do lado do quadrado: 5\n",
      "o dobro da área é 50.00\n"
     ]
    }
   ],
   "source": [
    "lado = int(input('digite a medida do lado do quadrado: '))\n",
    "area = lado ** 2\n",
    "\n",
    "print('o dobro da área é {:.2f}'.format(area * 2))\n"
   ]
  },
  {
   "cell_type": "markdown",
   "id": "af0742ff",
   "metadata": {},
   "source": [
    "Exercício 8"
   ]
  },
  {
   "cell_type": "code",
   "execution_count": 22,
   "id": "00779e96",
   "metadata": {},
   "outputs": [
    {
     "name": "stdout",
     "output_type": "stream",
     "text": [
      "digite o valor que você recebe por hora: 10\n",
      "digite o número de horas trabalhadas no mês: 160\n",
      "seu salário é igual a 1600.00\n"
     ]
    }
   ],
   "source": [
    "valor_hora = float(input('digite o valor que você recebe por hora: '))\n",
    "horas_trab = float(input('digite o número de horas trabalhadas no mês: '))\n",
    "\n",
    "salario = valor_hora * horas_trab\n",
    "\n",
    "print('seu salário é igual a {:.2f}'.format(salario))"
   ]
  },
  {
   "cell_type": "markdown",
   "id": "a78b0260",
   "metadata": {},
   "source": [
    "Exercício 9"
   ]
  },
  {
   "cell_type": "code",
   "execution_count": 37,
   "id": "6902ed22",
   "metadata": {},
   "outputs": [
    {
     "name": "stdout",
     "output_type": "stream",
     "text": [
      "digite a temperatura em Fahrenheit: 70\n",
      "a temperatura em celsius é igual a 21 graus\n"
     ]
    }
   ],
   "source": [
    "temp_f = float(input('digite a temperatura em Fahrenheit: '))\n",
    "celsius = (temp_f - 32) * 5/9\n",
    "\n",
    "print('a temperatura em celsius é igual a {} graus'.format(round(celsius)))"
   ]
  },
  {
   "cell_type": "markdown",
   "id": "ff003f4f",
   "metadata": {},
   "source": [
    "Exercício 10"
   ]
  },
  {
   "cell_type": "code",
   "execution_count": 38,
   "id": "610a2516",
   "metadata": {},
   "outputs": [
    {
     "name": "stdout",
     "output_type": "stream",
     "text": [
      "digite a temperatura em Celsius: 21\n",
      "a temperatura em fahrenheit é igual a 70 graus\n"
     ]
    }
   ],
   "source": [
    "temp_c = float(input('digite a temperatura em Celsius: '))\n",
    "temp_f = (temp_c * 9/5) + 32\n",
    "\n",
    "print('a temperatura em fahrenheit é igual a {} graus'.format(round(temp_f)))"
   ]
  },
  {
   "cell_type": "markdown",
   "id": "8dd3a131",
   "metadata": {},
   "source": [
    "Exercício 11"
   ]
  },
  {
   "cell_type": "code",
   "execution_count": 42,
   "id": "c42b010b",
   "metadata": {},
   "outputs": [
    {
     "name": "stdout",
     "output_type": "stream",
     "text": [
      "digite o primeiro inteiro: 8\n",
      "digite o segundo inteiro: 7\n",
      "digite o número real: 5.6\n",
      "produto: 56.0\n",
      "soma: 29.6\n",
      "cubo: 175.62\n"
     ]
    }
   ],
   "source": [
    "int_1 = int(input('digite o primeiro inteiro: '))\n",
    "int_2 = int(input('digite o segundo inteiro: '))\n",
    "num_real = float(input('digite o número real: '))\n",
    "\n",
    "prod = (int_1 * 2) * (int_2 / 2)\n",
    "soma = (int_1 * 3) + num_real\n",
    "cubo = num_real ** 3\n",
    "\n",
    "print('produto: {}'.format(prod))\n",
    "print('soma: {}'.format(soma))\n",
    "print('cubo: {:.2f}'.format(cubo))"
   ]
  },
  {
   "cell_type": "markdown",
   "id": "4b240719",
   "metadata": {},
   "source": [
    "Exercício 12"
   ]
  },
  {
   "cell_type": "code",
   "execution_count": 48,
   "id": "323e3d3c",
   "metadata": {},
   "outputs": [
    {
     "name": "stdout",
     "output_type": "stream",
     "text": [
      "digite sua altura em metros: 1.65\n",
      "o seu peso ideal é 61.95 kgs\n"
     ]
    }
   ],
   "source": [
    "altura = float(input('digite sua altura em metros: '))\n",
    "peso_ideal = (altura * 72.7) - 58\n",
    "    \n",
    "print('o seu peso ideal é {:.2f} kgs'.format(peso_ideal))"
   ]
  },
  {
   "cell_type": "markdown",
   "id": "588ee3b7",
   "metadata": {},
   "source": [
    "Exercício 13"
   ]
  },
  {
   "cell_type": "code",
   "execution_count": null,
   "id": "2f0fd94d",
   "metadata": {},
   "outputs": [],
   "source": [
    "altura = float(input('digite sua altura em metros: '))\n",
    "sexo = input('escolha uma opção: \\n(1) Mulher (2) Homem')\n",
    "\n",
    "if (sexo == '1'):\n",
    "    peso_ideal = (altura * 62.1) - 44.7\n",
    "else:\n",
    "    peso_ideal = (altura * 72.7) - 58\n",
    "    \n",
    "print('o seu peso ideal é {:.2f} kgs'.format(peso_ideal))"
   ]
  },
  {
   "cell_type": "markdown",
   "id": "923c2dfa",
   "metadata": {},
   "source": [
    "Exercício 14"
   ]
  },
  {
   "cell_type": "code",
   "execution_count": 49,
   "id": "d879445d",
   "metadata": {},
   "outputs": [
    {
     "name": "stdout",
     "output_type": "stream",
     "text": [
      "digite o peso do peixe em kgs: 52\n",
      "o valor a ser pago é de R$8.00\n"
     ]
    }
   ],
   "source": [
    "limite_kg = 50\n",
    "multa_kg = 4\n",
    "\n",
    "peso_peixe = int(input('digite o peso do peixe em kgs: '))\n",
    "\n",
    "if (peso_peixe > limite_kg):\n",
    "    excesso = peso_peixe - limite_kg\n",
    "    multa = excesso * multa_kg\n",
    "    \n",
    "    print('o valor a ser pago é de R${:.2f}'.format(multa))"
   ]
  },
  {
   "cell_type": "markdown",
   "id": "3f89a08c",
   "metadata": {},
   "source": [
    "Exercício 15"
   ]
  },
  {
   "cell_type": "code",
   "execution_count": 51,
   "id": "7b99ca21",
   "metadata": {},
   "outputs": [
    {
     "name": "stdout",
     "output_type": "stream",
     "text": [
      "digite o valor que você recebe por hora: 10\n",
      "digite o número de horas trabalhadas no mês: 160\n",
      "\n",
      "+ Salário Bruto : R$1600.0\n",
      "- IR (11%) : R$176.0\n",
      "- INSS (8%) : R$128.0\n",
      "- Sindicato ( 5%) : R$80.0\n",
      "= Salário Liquido : R$1216.0\n"
     ]
    }
   ],
   "source": [
    "valor_hora = float(input('digite o valor que você recebe por hora: '))\n",
    "horas_trab = float(input('digite o número de horas trabalhadas no mês: '))\n",
    "\n",
    "salario_bruto = valor_hora * horas_trab\n",
    "imposto_r = salario_bruto * 0.11\n",
    "inss = salario_bruto * 0.08\n",
    "sindicato = salario_bruto * 0.05\n",
    "salario_liq = salario_bruto - imposto_r - inss - sindicato\n",
    "\n",
    "print('\\n+ Salário Bruto : R${}'.format(salario_bruto))\n",
    "print('- IR (11%) : R${}'.format(imposto_r))\n",
    "print('- INSS (8%) : R${}'.format(inss))\n",
    "print('- Sindicato ( 5%) : R${}'.format(sindicato))\n",
    "print('= Salário Liquido : R${}'.format(salario_liq))"
   ]
  },
  {
   "cell_type": "markdown",
   "id": "ad530fe6",
   "metadata": {},
   "source": [
    "Exercício 16"
   ]
  },
  {
   "cell_type": "code",
   "execution_count": 53,
   "id": "7f84ca2d",
   "metadata": {},
   "outputs": [
    {
     "name": "stdout",
     "output_type": "stream",
     "text": [
      "digite o tamanho da área em metros quadrados: 10\n",
      "a quantidade de latas a serem compradas é 1, pelo valor de R$80\n"
     ]
    }
   ],
   "source": [
    "import math\n",
    "\n",
    "litros_lata = 18\n",
    "valor_lata = 80\n",
    "\n",
    "metros = int(input('digite o tamanho da área em metros quadrados: '))\n",
    "litros_necessarios = metros/3\n",
    "qtd_latas = math.ceil(litros_necessarios/litros_lata)\n",
    "preco_total = qtd_tintas * valor_lata\n",
    "\n",
    "print('a quantidade de latas a serem compradas é {}, pelo valor de R${}'.format(qtd_latas, preco_total))"
   ]
  },
  {
   "cell_type": "markdown",
   "id": "c36db5a6",
   "metadata": {},
   "source": [
    "Exercício 17"
   ]
  },
  {
   "cell_type": "code",
   "execution_count": 63,
   "id": "f9a560a7",
   "metadata": {},
   "outputs": [
    {
     "name": "stdout",
     "output_type": "stream",
     "text": [
      "digite o tamanho da área em metros quadrados: 10\n",
      "a quantidade de galões a serem compradas é 1, pelo valor de R$25\n"
     ]
    }
   ],
   "source": [
    "import math\n",
    "\n",
    "litros_lata = 18\n",
    "valor_lata = 80\n",
    "litros_galao = 3.6\n",
    "valor_galao = 25\n",
    "\n",
    "metros = int(input('digite o tamanho da área em metros quadrados: '))\n",
    "litros_necessarios = metros/6\n",
    "\n",
    "if (litros_necessarios < 18):\n",
    "    qtd_galao = math.ceil(litros_necessarios/litros_galao)\n",
    "    preco_total = qtd_galao * valor_galao\n",
    "    print('a quantidade de galões a serem compradas é {}, pelo valor de R${}'.format(qtd_galao, preco_total))\n",
    "    \n",
    "elif (litros_necessarios == 18):\n",
    "    qtd_latas = int(litros_necessarios/litros_lata)\n",
    "    preco_total = qtd_latas * valor_lata\n",
    "    print('a quantidade de latas a serem compradas é {}, pelo valor de R${}'.format(qtd_latas, preco_total))\n",
    "    \n",
    "else:\n",
    "    qtd_latas = int(litros_necessarios/litros_lata)\n",
    "    qtd_galao = math.ceil((litros_necessarios%litros_lata)/litros_galao)\n",
    "    preco_total = (qtd_latas * valor_lata) + (qtd_galao * valor_galao)\n",
    "    print('serão necessárias {} latas e {} galões, pelo valor de R${}'.format(qtd_latas, qtd_galao, preco_total))"
   ]
  },
  {
   "cell_type": "markdown",
   "id": "b43b4a68",
   "metadata": {},
   "source": [
    "Exercício 18"
   ]
  },
  {
   "cell_type": "code",
   "execution_count": 66,
   "id": "b3fc618b",
   "metadata": {},
   "outputs": [
    {
     "name": "stdout",
     "output_type": "stream",
     "text": [
      "digite o tamanho do arquivo em MB: 1000\n",
      "digite a velocidade do link em Mbps: 10\n",
      "tempo aproximado de download: 1.67 minutos\n"
     ]
    }
   ],
   "source": [
    "tamanho_mb = float(input('digite o tamanho do arquivo em MB: '))\n",
    "velocidade_mbps = float(input('digite a velocidade do link em Mbps: '))\n",
    "tempo_seg = tamanho_mb/velocidade_mbps\n",
    "tempo_min = tempo_seg/60\n",
    "\n",
    "print('tempo aproximado de download: {:.2f} minutos'.format(tempo_min))\n"
   ]
  }
 ],
 "metadata": {
  "kernelspec": {
   "display_name": "Python 3 (ipykernel)",
   "language": "python",
   "name": "python3"
  },
  "language_info": {
   "codemirror_mode": {
    "name": "ipython",
    "version": 3
   },
   "file_extension": ".py",
   "mimetype": "text/x-python",
   "name": "python",
   "nbconvert_exporter": "python",
   "pygments_lexer": "ipython3",
   "version": "3.8.10"
  }
 },
 "nbformat": 4,
 "nbformat_minor": 5
}
