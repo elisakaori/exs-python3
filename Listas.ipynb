{
 "cells": [
  {
   "cell_type": "markdown",
   "id": "8a4c780c",
   "metadata": {},
   "source": [
    "### Listas"
   ]
  },
  {
   "cell_type": "markdown",
   "id": "b56376ee",
   "metadata": {},
   "source": [
    "1. Faça um Programa que leia um vetor de 5 números inteiros e mostre-os.\n"
   ]
  },
  {
   "cell_type": "code",
   "execution_count": 17,
   "id": "1a72d6bd",
   "metadata": {
    "scrolled": true
   },
   "outputs": [
    {
     "name": "stdout",
     "output_type": "stream",
     "text": [
      "digite 5 números inteiros: \n",
      "\n",
      "digite o número 1: 5\n",
      "digite o número 2: 4\n",
      "digite o número 3: 7\n",
      "digite o número 4: 7\n",
      "digite o número 5: 7\n",
      "[5, 4, 7, 7, 7]\n"
     ]
    }
   ],
   "source": [
    "num_inteiros = []\n",
    "\n",
    "print('digite 5 números inteiros: \\n')\n",
    "\n",
    "for i in range(5):\n",
    "    num_inteiros.append(int(input('digite o número {}: '.format(i+1))))\n",
    "\n",
    "print(num_inteiros)"
   ]
  },
  {
   "cell_type": "markdown",
   "id": "4b824de2",
   "metadata": {},
   "source": [
    "2. Faça um Programa que leia um vetor de 10 números reais e mostre-os na ordem inversa.\n"
   ]
  },
  {
   "cell_type": "code",
   "execution_count": 22,
   "id": "71534855",
   "metadata": {},
   "outputs": [
    {
     "name": "stdout",
     "output_type": "stream",
     "text": [
      "digite 10 números reais: \n",
      "\n",
      "digite o 1o número: 25\n",
      "digite o 2o número: 6.9\n",
      "digite o 3o número: 3.65\n",
      "digite o 4o número: 6.78\n",
      "digite o 5o número: 5\n",
      "digite o 6o número: 1\n",
      "digite o 7o número: 7\n",
      "digite o 8o número: 2.85\n",
      "digite o 9o número: 8.63\n",
      "digite o 10o número: 6.2\n",
      "[6.2, 8.63, 2.85, 7.0, 1.0, 5.0, 6.78, 3.65, 6.9, 25.0]\n"
     ]
    }
   ],
   "source": [
    "num_reais = []\n",
    "\n",
    "print('digite 10 números reais: \\n')\n",
    "\n",
    "for i in range(10):\n",
    "    num_reais.append(float(input('digite o {}o número: '.format(i+1))))\n",
    "\n",
    "num_reais.reverse()\n",
    "\n",
    "print(num_reais)"
   ]
  },
  {
   "cell_type": "markdown",
   "id": "2d6ee13a",
   "metadata": {},
   "source": [
    "3. Faça um Programa que leia 4 notas, mostre as notas e a média na tela.\n"
   ]
  },
  {
   "cell_type": "code",
   "execution_count": 27,
   "id": "36932f4b",
   "metadata": {},
   "outputs": [
    {
     "name": "stdout",
     "output_type": "stream",
     "text": [
      "digite as notas: \n",
      "\n",
      "nota 1: 5\n",
      "nota 2: 7.9\n",
      "nota 3: 5\n",
      "nota 4: 3.6\n",
      "nota 5: 7\n",
      "[5.0, 7.9, 5.0, 3.6, 7.0] \n",
      "\n",
      "5.7\n"
     ]
    }
   ],
   "source": [
    "import statistics \n",
    "\n",
    "notas = []\n",
    "\n",
    "print('digite as notas: \\n')\n",
    "\n",
    "for i in range(5):\n",
    "    notas.append(float(input('nota {}: '.format(i+1))))\n",
    "\n",
    "media = statistics.mean(notas)\n",
    "\n",
    "print(notas,'\\n')\n",
    "print(media)"
   ]
  },
  {
   "cell_type": "markdown",
   "id": "c251333a",
   "metadata": {},
   "source": [
    "4. Faça um Programa que leia um vetor de 10 caracteres, e diga quantas consoantes foram lidas. Imprima as consoantes.\n"
   ]
  },
  {
   "cell_type": "code",
   "execution_count": 18,
   "id": "f567b5a5",
   "metadata": {},
   "outputs": [
    {
     "name": "stdout",
     "output_type": "stream",
     "text": [
      "Caractere 1: a\n",
      "Caractere 2: b\n",
      "Caractere 3: c\n",
      "Caractere 4: d\n",
      "Caractere 5: e\n",
      "Caractere 6: a\n",
      "Caractere 7: b\n",
      "Caractere 8: c\n",
      "Caractere 9: d\n",
      "Caractere 10: e\n",
      "6\n"
     ]
    }
   ],
   "source": [
    "v = []\n",
    "vogais = ['a', 'e', 'i',  'o', 'u']\n",
    "cont_cons = 0\n",
    "\n",
    "for j in range(10):\n",
    "    v.append((input('Caractere {}: '.format(j+1))))\n",
    "for i in range(len(v)):\n",
    "    if v[i] not in vogais:\n",
    "        cont_cons = cont_cons + 1\n",
    "        \n",
    "print(cont_cons)\n",
    "            \n",
    "        "
   ]
  },
  {
   "cell_type": "markdown",
   "id": "9c9621c4",
   "metadata": {},
   "source": [
    "5. Faça um Programa que leia 20 números inteiros e armazene-os num vetor. Armazene os números pares no vetor PAR e os números IMPARES no vetor impar. Imprima os três vetores.\n"
   ]
  },
  {
   "cell_type": "code",
   "execution_count": 20,
   "id": "62926ed1",
   "metadata": {},
   "outputs": [
    {
     "name": "stdout",
     "output_type": "stream",
     "text": [
      "digite o numero: 1\n",
      "digite o numero: 2\n",
      "digite o numero: 3\n",
      "digite o numero: 4\n",
      "digite o numero: 5\n",
      "digite o numero: 6\n",
      "digite o numero: 7\n",
      "digite o numero: 8\n",
      "digite o numero: 9\n",
      "digite o numero: 10\n",
      "digite o numero: 11\n",
      "digite o numero: 12\n",
      "digite o numero: 13\n",
      "digite o numero: 14\n",
      "digite o numero: 15\n",
      "digite o numero: 16\n",
      "digite o numero: 17\n",
      "digite o numero: 18\n",
      "digite o numero: 19\n",
      "digite o numero: 20\n",
      "[2.0, 4.0, 6.0, 8.0, 10.0, 12.0, 14.0, 16.0, 18.0, 20.0]\n",
      "[1.0, 3.0, 5.0, 7.0, 9.0, 11.0, 13.0, 15.0, 17.0, 19.0]\n"
     ]
    }
   ],
   "source": [
    "pares = []\n",
    "impares =[]\n",
    "\n",
    "for i in range(20):\n",
    "    num = float(input('digite o numero: '))\n",
    "    if num % 2 == 0:\n",
    "        pares.append(num)\n",
    "    else:\n",
    "        impares.append(num)\n",
    "print(pares)\n",
    "print(impares)"
   ]
  },
  {
   "cell_type": "markdown",
   "id": "62d347be",
   "metadata": {},
   "source": [
    "6. Faça um Programa que peça as quatro notas de 10 alunos, calcule e armazene num vetor a média de cada aluno, imprima o número de alunos com média maior ou igual a 7.0.\n"
   ]
  },
  {
   "cell_type": "code",
   "execution_count": 37,
   "id": "5d388d50",
   "metadata": {},
   "outputs": [
    {
     "name": "stdout",
     "output_type": "stream",
     "text": [
      "aluno 1\n",
      "digite a nota 1: 8\n",
      "digite a nota 2: 8\n",
      "digite a nota 3: 8\n",
      "digite a nota 4: 8\n",
      "aluno 2\n",
      "digite a nota 1: 7\n",
      "digite a nota 2: 7\n",
      "digite a nota 3: 7\n",
      "digite a nota 4: 7\n",
      "aluno 3\n",
      "digite a nota 1: 6\n",
      "digite a nota 2: 6\n",
      "digite a nota 3: 6\n",
      "digite a nota 4: 6\n",
      "aluno 4\n",
      "digite a nota 1: 10\n",
      "digite a nota 2: 10\n",
      "digite a nota 3: 9\n",
      "digite a nota 4: 8\n",
      "aluno 5\n",
      "digite a nota 1: 6\n",
      "digite a nota 2: 6\n",
      "digite a nota 3: 6\n",
      "digite a nota 4: 6\n",
      "aluno 6\n",
      "digite a nota 1: 5\n",
      "digite a nota 2: 5\n",
      "digite a nota 3: 5\n",
      "digite a nota 4: 5\n",
      "aluno 7\n",
      "digite a nota 1: 4\n",
      "digite a nota 2: 5\n",
      "digite a nota 3: 6\n",
      "digite a nota 4: 4\n",
      "aluno 8\n",
      "digite a nota 1: 2\n",
      "digite a nota 2: 3\n",
      "digite a nota 3: 5\n",
      "digite a nota 4: 6\n",
      "aluno 9\n",
      "digite a nota 1: 7\n",
      "digite a nota 2: 7\n",
      "digite a nota 3: 7\n",
      "digite a nota 4: 7\n",
      "aluno 10\n",
      "digite a nota 1: 9\n",
      "digite a nota 2: 8\n",
      "digite a nota 3: 6\n",
      "digite a nota 4: 7\n",
      "alunos com média superior a 7: 5\n"
     ]
    }
   ],
   "source": [
    "import statistics\n",
    "\n",
    "media = []\n",
    "for i in range(10):\n",
    "    nota = 0\n",
    "    print('aluno {}'. format(i+1))\n",
    "    for j in range(4):\n",
    "        nota = nota + (float(input('digite a nota {}: '.format(j+1))))/4\n",
    "    media.append(nota)\n",
    "    \n",
    "cont_alunos = 0\n",
    "    \n",
    "for k in range(len(media)):\n",
    "    if media[k] >= 7:\n",
    "        cont_alunos = cont_alunos + 1\n",
    "        \n",
    "print('alunos com média superior a 7: {}'.format(cont_alunos))        \n",
    "\n",
    "        "
   ]
  },
  {
   "cell_type": "markdown",
   "id": "f9d6f6bd",
   "metadata": {},
   "source": [
    "7. Faça um Programa que leia um vetor de 5 números inteiros, mostre a soma, a multiplicação e os números.\n"
   ]
  },
  {
   "cell_type": "code",
   "execution_count": 1,
   "id": "a780f939",
   "metadata": {},
   "outputs": [
    {
     "name": "stdout",
     "output_type": "stream",
     "text": [
      "digite o 1o numero inteiro: 6\n",
      "digite o 2o numero inteiro: 8\n",
      "digite o 3o numero inteiro: 4\n",
      "digite o 4o numero inteiro: 2\n",
      "digite o 5o numero inteiro: 2\n",
      "22\n",
      "768\n",
      "[6, 8, 4, 2, 2]\n"
     ]
    }
   ],
   "source": [
    "import math\n",
    "\n",
    "vetor = []\n",
    "for i in range(5):\n",
    "    vetor.append(int(input('digite o {}o numero inteiro: '.format(i+1))))\n",
    "    \n",
    "print(sum(vetor))\n",
    "\n",
    "multi = math.prod(vetor)\n",
    "\n",
    "print(multi)\n",
    "\n",
    "print(vetor)\n"
   ]
  },
  {
   "cell_type": "markdown",
   "id": "21d7ee6b",
   "metadata": {},
   "source": [
    "8. Faça um Programa que peça a idade e a altura de 5 pessoas, armazene cada informação no seu respectivo vetor. Imprima a idade e a altura na ordem inversa a ordem lida.\n"
   ]
  },
  {
   "cell_type": "code",
   "execution_count": 19,
   "id": "177e1a09",
   "metadata": {},
   "outputs": [
    {
     "name": "stdout",
     "output_type": "stream",
     "text": [
      "digite a idade: 13\n",
      "digite a altura: 1.5\n",
      "digite a idade: 87\n",
      "digite a altura: 1.5\n",
      "digite a idade: 26\n",
      "digite a altura: 1.9\n",
      "digite a idade: 69\n",
      "digite a altura: 1.65\n",
      "digite a idade: 25\n",
      "digite a altura: 1.74\n",
      "idades: [25, 69, 26, 87, 13]\n",
      "alturas: [1.74, 1.65, 1.9, 1.5, 1.5]\n"
     ]
    }
   ],
   "source": [
    "idades = []\n",
    "alturas = []\n",
    "\n",
    "for i in range(5):\n",
    "    idades.append(int(input(\"digite a idade: \")))\n",
    "    alturas.append(float(input(\"digite a altura: \")))\n",
    "    \n",
    "idades.reverse()\n",
    "alturas.reverse()\n",
    "\n",
    "print('idades:', idades)\n",
    "print('alturas:', alturas)\n"
   ]
  },
  {
   "cell_type": "markdown",
   "id": "5984303c",
   "metadata": {},
   "source": [
    "9. Faça um Programa que leia um vetor A com 10 números inteiros, calcule e mostre a soma dos quadrados dos elementos do vetor.\n"
   ]
  },
  {
   "cell_type": "code",
   "execution_count": null,
   "id": "c2d6bf39",
   "metadata": {},
   "outputs": [],
   "source": [
    "A = []\n",
    "soma = 0\n",
    "for i in range(10):\n",
    "    A.append(int(input('digite um número: ')))\n",
    "    soma = soma + (A[i]**2)\n",
    "print('soma dos quadrados dos elementos: ', soma)"
   ]
  },
  {
   "cell_type": "markdown",
   "id": "6f262196",
   "metadata": {},
   "source": [
    "10. Faça um Programa que leia dois vetores com 10 elementos cada. Gere um terceiro vetor de 20 elementos, cujos valores deverão ser compostos pelos elementos intercalados dos dois outros vetores.\n"
   ]
  },
  {
   "cell_type": "code",
   "execution_count": 27,
   "id": "a4494981",
   "metadata": {
    "scrolled": true
   },
   "outputs": [
    {
     "name": "stdout",
     "output_type": "stream",
     "text": [
      "digite um número pro vetor 1: 1\n",
      "digite um número pro vetor 1: 1\n",
      "digite um número pro vetor 1: 1\n",
      "digite um número pro vetor 1: 1\n",
      "digite um número pro vetor 1: 1\n",
      "digite um número pro vetor 1: 1\n",
      "digite um número pro vetor 1: 1\n",
      "digite um número pro vetor 1: 1\n",
      "digite um número pro vetor 1: 1\n",
      "digite um número pro vetor 1: 1\n",
      "digite um número pro vetor 2: 2\n",
      "digite um número pro vetor 2: 2\n",
      "digite um número pro vetor 2: 2\n",
      "digite um número pro vetor 2: 2\n",
      "digite um número pro vetor 2: 2\n",
      "digite um número pro vetor 2: 2\n",
      "digite um número pro vetor 2: 2\n",
      "digite um número pro vetor 2: 2\n",
      "digite um número pro vetor 2: 2\n",
      "digite um número pro vetor 2: 2\n",
      "[1.0, 1.0, 1.0, 1.0, 1.0, 1.0, 1.0, 1.0, 1.0, 1.0] \n",
      " [2.0, 2.0, 2.0, 2.0, 2.0, 2.0, 2.0, 2.0, 2.0, 2.0] \n",
      " [1.0, 2.0, 1.0, 2.0, 1.0, 2.0, 1.0, 2.0, 1.0, 2.0, 1.0, 2.0, 1.0, 2.0, 1.0, 2.0, 1.0, 2.0, 1.0, 2.0]\n"
     ]
    }
   ],
   "source": [
    "v1 = []\n",
    "v2 = []\n",
    "v3 = []\n",
    "\n",
    "for i in range(10):\n",
    "    v1.append(float(input('digite um número pro vetor 1: ')))\n",
    "    \n",
    "for i in range(10):\n",
    "    v2.append(float(input('digite um número pro vetor 2: ')))\n",
    "    \n",
    "for i in range(10):\n",
    "    v3.append(v1[i])\n",
    "    v3.append(v2[i])\n",
    "\n",
    "print(v1, '\\n', v2, '\\n', v3)"
   ]
  },
  {
   "cell_type": "markdown",
   "id": "1b562dab",
   "metadata": {},
   "source": [
    "11. Altere o programa anterior, intercalando 3 vetores de 10 elementos cada.\n"
   ]
  },
  {
   "cell_type": "code",
   "execution_count": 28,
   "id": "606b2f53",
   "metadata": {},
   "outputs": [
    {
     "name": "stdout",
     "output_type": "stream",
     "text": [
      "digite um número pro vetor 1: 1\n",
      "digite um número pro vetor 1: 1\n",
      "digite um número pro vetor 1: 1\n",
      "digite um número pro vetor 1: 1\n",
      "digite um número pro vetor 1: 1\n",
      "digite um número pro vetor 1: 1\n",
      "digite um número pro vetor 1: 1\n",
      "digite um número pro vetor 1: 1\n",
      "digite um número pro vetor 1: 1\n",
      "digite um número pro vetor 1: 1\n",
      "digite um número pro vetor 2: 2\n",
      "digite um número pro vetor 2: 2\n",
      "digite um número pro vetor 2: 2\n",
      "digite um número pro vetor 2: 2\n",
      "digite um número pro vetor 2: 2\n",
      "digite um número pro vetor 2: 2\n",
      "digite um número pro vetor 2: 2\n",
      "digite um número pro vetor 2: 2\n",
      "digite um número pro vetor 2: 2\n",
      "digite um número pro vetor 2: 2\n",
      "digite um número pro vetor 3: 3\n",
      "digite um número pro vetor 3: 3\n",
      "digite um número pro vetor 3: 3\n",
      "digite um número pro vetor 3: 3\n",
      "digite um número pro vetor 3: 3\n",
      "digite um número pro vetor 3: 3\n",
      "digite um número pro vetor 3: 3\n",
      "digite um número pro vetor 3: 3\n",
      "digite um número pro vetor 3: 3\n",
      "digite um número pro vetor 3: 3\n",
      "[1.0, 1.0, 1.0, 1.0, 1.0, 1.0, 1.0, 1.0, 1.0, 1.0] \n",
      " [2.0, 2.0, 2.0, 2.0, 2.0, 2.0, 2.0, 2.0, 2.0, 2.0] \n",
      " [3.0, 3.0, 3.0, 3.0, 3.0, 3.0, 3.0, 3.0, 3.0, 3.0] \n",
      " [1.0, 2.0, 3.0, 1.0, 2.0, 3.0, 1.0, 2.0, 3.0, 1.0, 2.0, 3.0, 1.0, 2.0, 3.0, 1.0, 2.0, 3.0, 1.0, 2.0, 3.0, 1.0, 2.0, 3.0, 1.0, 2.0, 3.0, 1.0, 2.0, 3.0]\n"
     ]
    }
   ],
   "source": [
    "v1 = []\n",
    "v2 = []\n",
    "v3 = []\n",
    "v4 = []\n",
    "\n",
    "for i in range(10):\n",
    "    v1.append(float(input('digite um número pro vetor 1: ')))\n",
    "    \n",
    "for i in range(10):\n",
    "    v2.append(float(input('digite um número pro vetor 2: ')))\n",
    "    \n",
    "for i in range(10):\n",
    "    v3.append(float(input('digite um número pro vetor 3: ')))\n",
    "        \n",
    "for i in range(10):\n",
    "    v4.append(v1[i])\n",
    "    v4.append(v2[i])\n",
    "    v4.append(v3[i])\n",
    "\n",
    "print(v1, '\\n', v2, '\\n', v3, '\\n', v4)"
   ]
  },
  {
   "cell_type": "markdown",
   "id": "16943865",
   "metadata": {},
   "source": [
    "12. Foram anotadas as idades e alturas de 30 alunos. Faça um Programa que determine quantos alunos com mais de 13 anos possuem altura inferior à média de altura desses alunos.\n"
   ]
  },
  {
   "cell_type": "code",
   "execution_count": 30,
   "id": "79655f98",
   "metadata": {},
   "outputs": [
    {
     "name": "stdout",
     "output_type": "stream",
     "text": [
      "2\n"
     ]
    }
   ],
   "source": [
    "idades = [13, 15, 13,12, 16, 11, 9, 8, 7, 12, 17, 15, 12, 17, 15]\n",
    "alturas = [1.90, 1.78, 1.6, 1.8, 1.5, 1.59, 1.72, 1.90, 1.78, 1.6, 1.8, 1.5, 1.59, 1.72, 1.8]\n",
    "\n",
    "media = sum(alturas)/len(alturas)\n",
    "\n",
    "qtd_alunos = 0\n",
    "for i in range(len(idades)):\n",
    "    if idades[i] > 13 and alturas[i] < media:\n",
    "        qtd_alunos = qtd_alunos + 1\n",
    "\n",
    "print (qtd_alunos)"
   ]
  },
  {
   "cell_type": "markdown",
   "id": "dcef4d65",
   "metadata": {},
   "source": [
    "13. Faça um programa que receba a temperatura média de cada mês do ano e armazene-as em uma lista. Após isto, calcule a média anual das temperaturas e mostre todas as temperaturas acima da média anual, e em que mês elas ocorreram (mostrar o mês por extenso: 1 – Janeiro, 2 – Fevereiro, . . . ).\n"
   ]
  },
  {
   "cell_type": "code",
   "execution_count": 32,
   "id": "ac1a1176",
   "metadata": {},
   "outputs": [
    {
     "name": "stdout",
     "output_type": "stream",
     "text": [
      "digite a temperatura do mês de Janeiro: 25\n",
      "digite a temperatura do mês de Fevereiro: 26\n",
      "digite a temperatura do mês de Março: 33\n",
      "digite a temperatura do mês de Abril: 25\n",
      "digite a temperatura do mês de Maio: 24\n",
      "digite a temperatura do mês de Junho: 21\n",
      "digite a temperatura do mês de Julho: 20\n",
      "digite a temperatura do mês de Agosto: 29\n",
      "digite a temperatura do mês de Setembro: 28\n",
      "digite a temperatura do mês de Outubro: 27\n",
      "digite a temperatura do mês de Novembro: 33\n",
      "digite a temperatura do mês de Dezembro: 35\n",
      "2  -  Março\n",
      "7  -  Agosto\n",
      "8  -  Setembro\n",
      "10  -  Novembro\n",
      "11  -  Dezembro\n"
     ]
    }
   ],
   "source": [
    "\n",
    "lista_meses = [\"Janeiro\", \"Fevereiro\", \"Março\", \"Abril\", \"Maio\", \"Junho\", \"Julho\", \"Agosto\", \"Setembro\", \"Outubro\", \"Novembro\", \"Dezembro\"]\n",
    "lista_temp = []\n",
    "\n",
    "for i in range(12):\n",
    "    lista_temp.append(float(input('digite a temperatura do mês de {}: '.format(lista_meses[i]))))\n",
    "\n",
    "media = sum(lista_temp)/len(lista_temp)\n",
    "\n",
    "\n",
    "for i in range(12):\n",
    "    if lista_temp[i] > media:\n",
    "        print (i, \" - \", lista_meses[i])"
   ]
  },
  {
   "cell_type": "markdown",
   "id": "2063c6a0",
   "metadata": {},
   "source": [
    "14. Utilizando listas faça um programa que faça 5 perguntas para uma pessoa sobre um crime. As perguntas são:<br><br>\n",
    "\"Telefonou para a vítima?\"<br>\n",
    "\"Esteve no local do crime?\"<br>\n",
    "\"Mora perto da vítima?\"<br>\n",
    "\"Devia para a vítima?\"<br>\n",
    "\"Já trabalhou com a vítima?\"<br><br> \n",
    "O programa deve no final emitir uma classificação sobre a participação da pessoa no crime. Se a pessoa responder positivamente a 2 questões ela deve ser classificada como \"Suspeita\", entre 3 e 4 como \"Cúmplice\" e 5 como \"Assassino\". Caso contrário, ele será classificado como \"Inocente\"."
   ]
  },
  {
   "cell_type": "code",
   "execution_count": 14,
   "id": "d5ae750a",
   "metadata": {},
   "outputs": [
    {
     "name": "stdout",
     "output_type": "stream",
     "text": [
      "Telefonou para a vítima? Sim ou Não: Sim\n",
      "Esteve no local do crime? Sim ou Não: Sim\n",
      "Mora perto da vítima? Sim ou Não: Sim\n",
      "Devia para a vítima? Sim ou Não: Não\n",
      "Já trabalhou com a vítima? Sim ou Não: Sim\n",
      "['Sim', 'Sim', 'Sim', 'Não', 'Sim']\n",
      "Cúmplice\n"
     ]
    }
   ],
   "source": [
    "resposta = []\n",
    "resposta.append(input(\"Telefonou para a vítima? Sim ou Não: \"))\n",
    "resposta.append(input(\"Esteve no local do crime? Sim ou Não: \"))\n",
    "resposta.append(input(\"Mora perto da vítima? Sim ou Não: \"))\n",
    "resposta.append(input(\"Devia para a vítima? Sim ou Não: \"))\n",
    "resposta.append(input(\"Já trabalhou com a vítima? Sim ou Não: \"))\n",
    "print(resposta)\n",
    "\n",
    "cont_sim = 0\n",
    "j = 0\n",
    "\n",
    "for i in resposta:\n",
    "    j = j + 1\n",
    "    if resposta[j-1] == 'Sim':\n",
    "        cont_sim = cont_sim + 1\n",
    "\n",
    "if cont_sim == 2:\n",
    "    print('Suspeita')\n",
    "elif 3 <= cont_sim <= 4:\n",
    "    print('Cúmplice')\n",
    "elif cont_sim == 5:\n",
    "    print('Assassino')\n",
    "else:\n",
    "    print('Inocente')\n"
   ]
  },
  {
   "cell_type": "code",
   "execution_count": null,
   "id": "69b641e9",
   "metadata": {},
   "outputs": [],
   "source": []
  }
 ],
 "metadata": {
  "kernelspec": {
   "display_name": "Python 3 (ipykernel)",
   "language": "python",
   "name": "python3"
  },
  "language_info": {
   "codemirror_mode": {
    "name": "ipython",
    "version": 3
   },
   "file_extension": ".py",
   "mimetype": "text/x-python",
   "name": "python",
   "nbconvert_exporter": "python",
   "pygments_lexer": "ipython3",
   "version": "3.8.10"
  }
 },
 "nbformat": 4,
 "nbformat_minor": 5
}
