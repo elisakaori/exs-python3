{
 "cells": [
  {
   "cell_type": "markdown",
   "id": "68f10a9e",
   "metadata": {},
   "source": [
    "### Estrutura de Decisão"
   ]
  },
  {
   "cell_type": "markdown",
   "id": "7390339e",
   "metadata": {},
   "source": [
    "1. Faça um Programa que peça dois números e imprima o maior deles."
   ]
  },
  {
   "cell_type": "code",
   "execution_count": 5,
   "id": "4312eb79",
   "metadata": {},
   "outputs": [
    {
     "name": "stdout",
     "output_type": "stream",
     "text": [
      "digite o primeiro número: 5\n",
      "digite o segundo número: 8\n",
      "8.0\n"
     ]
    }
   ],
   "source": [
    "n1 = float(input('digite o primeiro número: '))\n",
    "n2 = float(input('digite o segundo número: '))\n",
    "\n",
    "if n1 > n2:\n",
    "    print(n1)\n",
    "elif n1 < n2:\n",
    "    print(n2)\n",
    "    "
   ]
  },
  {
   "cell_type": "markdown",
   "id": "fda9556d",
   "metadata": {},
   "source": [
    "2. Faça um Programa que peça um valor e mostre na tela se o valor é positivo ou negativo."
   ]
  },
  {
   "cell_type": "code",
   "execution_count": 6,
   "id": "044dbb3e",
   "metadata": {},
   "outputs": [
    {
     "name": "stdout",
     "output_type": "stream",
     "text": [
      "digite um vallor: -55\n",
      "-55.0 é negativo\n"
     ]
    }
   ],
   "source": [
    "num = float(input('digite um vallor: '))\n",
    "\n",
    "if num < 0:\n",
    "    print(num, 'é negativo')\n",
    "elif num > 0:\n",
    "    print(num, 'é positivo')"
   ]
  },
  {
   "cell_type": "markdown",
   "id": "7033da93",
   "metadata": {},
   "source": [
    "3. Faça um Programa que verifique se uma letra digitada é \"F\" ou \"M\". Conforme a letra escrever: F - Feminino, M - Masculino, Sexo Inválido.\n"
   ]
  },
  {
   "cell_type": "code",
   "execution_count": 7,
   "id": "3ba77beb",
   "metadata": {},
   "outputs": [
    {
     "name": "stdout",
     "output_type": "stream",
     "text": [
      "digite F para Feminino ou M para Masculino: F\n",
      "F - Feminino\n"
     ]
    }
   ],
   "source": [
    "letra = input('digite F para Feminino ou M para Masculino: ')\n",
    "\n",
    "if letra == 'F':\n",
    "    print('F - Feminino')\n",
    "elif letra == 'M':\n",
    "    print('M - Masculino')\n",
    "else:\n",
    "    print('Sexo Inválido')"
   ]
  },
  {
   "cell_type": "markdown",
   "id": "c4c8a47a",
   "metadata": {},
   "source": [
    "4. Faça um Programa que verifique se uma letra digitada é vogal ou consoante.\n"
   ]
  },
  {
   "cell_type": "code",
   "execution_count": 9,
   "id": "b9e714d9",
   "metadata": {},
   "outputs": [
    {
     "name": "stdout",
     "output_type": "stream",
     "text": [
      "digite uma letra: a\n",
      "você digitou uma vogal\n"
     ]
    }
   ],
   "source": [
    "letra = input('digite uma letra: ')\n",
    "vogais = ['a', 'e', 'i', 'o', 'u']\n",
    "\n",
    "if letra in vogais:\n",
    "    print('você digitou uma vogal')\n",
    "else:\n",
    "    print('você digitou uma consoante')"
   ]
  },
  {
   "cell_type": "markdown",
   "id": "b65112b7",
   "metadata": {},
   "source": [
    "5. Faça um programa para a leitura de duas notas parciais de um aluno. O programa deve calcular a média alcançada por aluno e apresentar: <br> <br>\n",
    "A mensagem \"Aprovado\", se a média alcançada for maior ou igual a sete;<br>\n",
    "A mensagem \"Reprovado\", se a média for menor do que sete;<br>\n",
    "A mensagem \"Aprovado com Distinção\", se a média for igual a dez.\n"
   ]
  },
  {
   "cell_type": "code",
   "execution_count": 13,
   "id": "c82b5b61",
   "metadata": {},
   "outputs": [
    {
     "name": "stdout",
     "output_type": "stream",
     "text": [
      "digite a primeira nota: 10\n",
      "digite a segunda nota: 10\n",
      "Aprovado com Distinção\n"
     ]
    }
   ],
   "source": [
    "nota1 = float(input('digite a primeira nota: '))\n",
    "nota2 = float(input('digite a segunda nota: '))\n",
    "media = (nota1 + nota2)/2\n",
    "\n",
    "if media == 10:\n",
    "    print('Aprovado com Distinção')\n",
    "elif media >= 7:\n",
    "    print('Aprovado')\n",
    "else:\n",
    "    print('Reprovado')\n",
    "    "
   ]
  },
  {
   "cell_type": "markdown",
   "id": "b1fa6ad6",
   "metadata": {},
   "source": [
    "6. Faça um Programa que leia três números e mostre o maior deles."
   ]
  },
  {
   "cell_type": "code",
   "execution_count": 21,
   "id": "869017f2",
   "metadata": {},
   "outputs": [
    {
     "name": "stdout",
     "output_type": "stream",
     "text": [
      "digite o primeiro número: 5\n",
      "digite o segundo número: 8\n",
      "digite o terceiro número: 9\n",
      "o número 9.0 é o maior\n"
     ]
    }
   ],
   "source": [
    "n1 = float(input('digite o primeiro número: '))\n",
    "n2 = float(input('digite o segundo número: '))\n",
    "n3 = float(input('digite o terceiro número: '))\n",
    "\n",
    "if n1 > (n2 and n3):\n",
    "    print('o número', n1, 'é o maior')\n",
    "elif n2 > (n1 and n3):\n",
    "    print('o número', n2, 'é o maior')\n",
    "elif n3 > (n1 and n2):\n",
    "    print('o número', n3, 'é o maior')"
   ]
  },
  {
   "cell_type": "markdown",
   "id": "75be29ce",
   "metadata": {},
   "source": [
    "7. Faça um Programa que leia três números e mostre o maior e o menor deles.\n"
   ]
  },
  {
   "cell_type": "code",
   "execution_count": 23,
   "id": "56635c55",
   "metadata": {},
   "outputs": [
    {
     "name": "stdout",
     "output_type": "stream",
     "text": [
      "digite o primeiro número: 8\n",
      "digite o segundo número: 6\n",
      "digite o terceiro número: 9\n",
      "o maior número é 9.0 e o menor número é 6.0\n"
     ]
    }
   ],
   "source": [
    "n1 = float(input('digite o primeiro número: '))\n",
    "n2 = float(input('digite o segundo número: '))\n",
    "n3 = float(input('digite o terceiro número: '))\n",
    "\n",
    "maior = 0\n",
    "menor = 0\n",
    "\n",
    "if n1 > n2 and n1 > n3:\n",
    "    maior = n1\n",
    "elif n2 > n1 and n2 > n3:\n",
    "    maior = n2\n",
    "elif n3 > n1 and n3 > n2:\n",
    "    maior = n3\n",
    "\n",
    "if n1 < n2 and n1 < n3:\n",
    "    menor = n1\n",
    "elif n2 < n1 and n2 < n3:\n",
    "    menor = n2\n",
    "elif n3 < n1 and n3 < n2:\n",
    "    menor = n3 \n",
    "    \n",
    "print('o maior número é {} e o menor número é {}'.format(maior, menor))\n"
   ]
  },
  {
   "cell_type": "markdown",
   "id": "27d61b60",
   "metadata": {},
   "source": [
    "8. Faça um programa que pergunte o preço de três produtos e informe qual produto você deve comprar, sabendo que a decisão é sempre pelo mais barato.\n"
   ]
  },
  {
   "cell_type": "code",
   "execution_count": 28,
   "id": "854387c9",
   "metadata": {},
   "outputs": [
    {
     "name": "stdout",
     "output_type": "stream",
     "text": [
      "qual o valor do primeiro produto? 98\n",
      "qual o valor do segundo produto? 8.9\n",
      "qual o valor do terceiro produto? 45\n",
      "você deve comprar o segundo produto\n"
     ]
    }
   ],
   "source": [
    "prod1 = float(input('qual o valor do primeiro produto? '))\n",
    "prod2 = float(input('qual o valor do segundo produto? '))\n",
    "prod3 = float(input('qual o valor do terceiro produto? '))\n",
    "\n",
    "if prod1 < (prod2 and prod3):\n",
    "    print('você deve comprar o primeiro produto')\n",
    "elif prod2 < (prod1 and prod3):\n",
    "    print('você deve comprar o segundo produto')\n",
    "elif prod3 < (prod1 and prod2):\n",
    "    print('você deve comprar o terceiro produto')"
   ]
  },
  {
   "cell_type": "markdown",
   "id": "fc05d54f",
   "metadata": {},
   "source": [
    "9. Faça um Programa que leia três números e mostre-os em ordem decrescente.\n"
   ]
  },
  {
   "cell_type": "code",
   "execution_count": 29,
   "id": "18832dd3",
   "metadata": {},
   "outputs": [
    {
     "name": "stdout",
     "output_type": "stream",
     "text": [
      "digite o 1o número5\n",
      "digite o 2o número8\n",
      "digite o 3o número9\n",
      "[9.0, 8.0, 5.0]\n"
     ]
    }
   ],
   "source": [
    "lista = []\n",
    "\n",
    "for i in range(3):\n",
    "    lista.append(float(input('digite o {}o número '.format(i+1))))\n",
    "    \n",
    "lista.sort(reverse = True)\n",
    "print(lista)"
   ]
  },
  {
   "cell_type": "markdown",
   "id": "02d5f138",
   "metadata": {},
   "source": [
    "10. Faça um Programa que pergunte em que turno você estuda. Peça para digitar M-matutino ou V-Vespertino ou N- Noturno. Imprima a mensagem \"Bom Dia!\", \"Boa Tarde!\" ou \"Boa Noite!\" ou \"Valor Inválido!\", conforme o caso.\n"
   ]
  },
  {
   "cell_type": "code",
   "execution_count": 31,
   "id": "704dfee9",
   "metadata": {},
   "outputs": [
    {
     "name": "stdout",
     "output_type": "stream",
     "text": [
      "digite M para Matutino, V para Vespertino ou N para Noturno: M\n",
      "Bom Dia!\n"
     ]
    }
   ],
   "source": [
    "letra = input('digite M para Matutino, V para Vespertino ou N para Noturno: ')\n",
    "\n",
    "if letra == 'M':\n",
    "    print('Bom Dia!')\n",
    "elif letra == 'V':\n",
    "    print('Boa Tarde!')\n",
    "elif letra == 'N':\n",
    "    print('Boa Noite!')\n",
    "else:\n",
    "    print('Valor Inválido!')"
   ]
  },
  {
   "cell_type": "markdown",
   "id": "8d9d7bf3",
   "metadata": {},
   "source": [
    "11. As Organizações Tabajara resolveram dar um aumento de salário aos seus colaboradores e lhe contraram para desenvolver o programa que calculará os reajustes.\n",
    "\n",
    "Faça um programa que recebe o salário de um colaborador e o reajuste segundo o seguinte critério, baseado no salário atual:\n",
    "salários até R$ 280,00 (incluindo) : aumento de 20%\n",
    "salários entre R$ 280,00 e R$ 700,00 : aumento de 15%\n",
    "salários entre R$ 700,00 e R$ 1500,00 : aumento de 10%\n",
    "salários de R$ 1500,00 em diante : aumento de 5% \n",
    "\n",
    "Após o aumento ser realizado, informe na tela:\n",
    "o salário antes do reajuste;\n",
    "o percentual de aumento aplicado;\n",
    "o valor do aumento;\n",
    "o novo salário, após o aumento."
   ]
  },
  {
   "cell_type": "code",
   "execution_count": 34,
   "id": "2062b35f",
   "metadata": {},
   "outputs": [
    {
     "name": "stdout",
     "output_type": "stream",
     "text": [
      "digite o seu salário: 300\n",
      "o salário antes do reajuste: 300.0 \n",
      "percentual de aumento aplicado: 15 \n",
      "valor do aumento: 45.0 \n",
      "novo salário: 345.0\n"
     ]
    }
   ],
   "source": [
    "salario = float(input('digite o seu salário: '))\n",
    "\n",
    "if salario <= 280:\n",
    "    percentual = 20\n",
    "    aumento = salario * percentual/100\n",
    "    novo_sal = salario + aumento\n",
    "elif 280 < salario <= 700:\n",
    "    percentual = 15\n",
    "    aumento = salario * percentual/100\n",
    "    novo_sal = salario + aumento\n",
    "elif 700 < salario <= 1500:\n",
    "    percentual = 10\n",
    "    aumento = salario * percentual/100\n",
    "    novo_sal = salario + aumento\n",
    "else:\n",
    "    percentual = 5\n",
    "    aumento = salario * percentual/100\n",
    "    novo_sal = salario + aumento\n",
    "    \n",
    "print('o salário antes do reajuste: {} \\npercentual de aumento aplicado: {} \\nvalor do aumento: {} \\nnovo salário: {}'.format(salario, percentual, aumento, novo_sal))"
   ]
  },
  {
   "cell_type": "code",
   "execution_count": null,
   "id": "f81b8dbd",
   "metadata": {},
   "outputs": [],
   "source": [
    "12. Faça um programa para o cálculo de uma folha de pagamento, sabendo que os descontos são do Imposto de Renda, \n",
    "que depende do salário bruto (conforme tabela abaixo) e 3% para o Sindicato e que o FGTS corresponde a \n",
    "11% do Salário Bruto, mas não é descontado (é a empresa que deposita). O Salário Líquido corresponde ao \n",
    "Salário Bruto menos os descontos. \n",
    "\n",
    "O programa deverá pedir ao usuário o valor da sua hora e a quantidade de horas trabalhadas no mês.\n",
    "Desconto do IR:\n",
    "    \n",
    "Salário Bruto até 900 (inclusive) - isento\n",
    "Salário Bruto até 1500 (inclusive) - desconto de 5%\n",
    "Salário Bruto até 2500 (inclusive) - desconto de 10%\n",
    "Salário Bruto acima de 2500 - desconto de 20% \n",
    "\n",
    "Imprima na tela as informações, dispostas conforme o exemplo abaixo. \n",
    "No exemplo o valor da hora é 5 e a quantidade de hora é 220.\n",
    "        Salário Bruto: (5 * 220)        : R$ 1100,00\n",
    "        (-) IR (5%)                     : R$   55,00  \n",
    "        (-) INSS ( 10%)                 : R$  110,00\n",
    "        FGTS (11%)                      : R$  121,00\n",
    "        Total de descontos              : R$  165,00\n",
    "        Salário Liquido                 : R$  935,00"
   ]
  },
  {
   "cell_type": "code",
   "execution_count": 52,
   "id": "2a0ffe0c",
   "metadata": {},
   "outputs": [
    {
     "name": "stdout",
     "output_type": "stream",
     "text": [
      "digite o valor da sua hora: 5\n",
      "digite a quantidade de horas trabalhadas no mês: 220\n",
      "Salário Bruto: R$1100.00\n",
      "(-) IR (5%): 55.00\n",
      "(-) INSS: ( 10%)110.00\n",
      "FGTS (11%): R$121.00\n",
      "Total de descontos: R$165.00\n",
      "Salário Liquido: R$935.00\n"
     ]
    }
   ],
   "source": [
    "valor_hora = float(input('digite o valor da sua hora: '))\n",
    "qtd_horas = float(input('digite a quantidade de horas trabalhadas no mês: '))\n",
    "\n",
    "salario_bruto = valor_hora * qtd_horas\n",
    "fgts = salario_bruto * 0.11\n",
    "inss = salario_bruto * 0.10\n",
    "sindicato = salario_bruto * 0.03\n",
    "\n",
    "if salario_bruto  <= 900:\n",
    "    imposto_renda = 0\n",
    "elif 900 < salario_bruto <= 1500:\n",
    "    imposto_renda = 0.05 * salario_bruto \n",
    "elif 1500 < salario_bruto <= 2500:\n",
    "    imposto_renda = 0.10 * salario_bruto \n",
    "else:\n",
    "    imposto_renda = 0.20 * salario_bruto \n",
    "\n",
    "total_desc = imposto_renda + inss\n",
    "\n",
    "print('Salário Bruto: R${:.2f}'.format(salario_bruto))\n",
    "print('(-) IR (5%): {:.2f}'.format(imposto_renda))\n",
    "print('(-) INSS: ( 10%){:.2f}'.format(inss))\n",
    "print('FGTS (11%): R${:.2f}'.format(fgts))\n",
    "print('Total de descontos: R${:.2f}'.format(total_desc))\n",
    "print('Salário Liquido: R${:.2f}'.format(salario_bruto - total_desc))\n",
    "\n"
   ]
  },
  {
   "cell_type": "markdown",
   "id": "34a209ed",
   "metadata": {},
   "source": [
    "13. Faça um Programa que leia um número e exiba o dia correspondente da semana. (1-Domingo, 2- Segunda, etc.), se digitar outro valor deve aparecer valor inválido.\n"
   ]
  },
  {
   "cell_type": "code",
   "execution_count": 55,
   "id": "d9fb8678",
   "metadata": {},
   "outputs": [
    {
     "name": "stdout",
     "output_type": "stream",
     "text": [
      "digite um número de 1 a 7 para escolher um dia da semana: 5\n",
      "5-Quinta\n"
     ]
    }
   ],
   "source": [
    "numero = int(input('digite um número de 1 a 7 para escolher um dia da semana: '))\n",
    "\n",
    "if numero == 1:\n",
    "    print('1-Domingo')\n",
    "elif numero == 2:\n",
    "    print('2-Segunda')\n",
    "elif numero == 3:\n",
    "    print('3-Terça')\n",
    "elif numero == 4:\n",
    "    print('4-Quarta')\n",
    "elif numero == 5:\n",
    "    print('5-Quinta')\n",
    "elif numero == 6:\n",
    "    print('6-Sexta')\n",
    "elif numero == 7:\n",
    "    print('7-Sabádo')\n",
    "else:\n",
    "    print('Valor inválido')"
   ]
  },
  {
   "cell_type": "code",
   "execution_count": null,
   "id": "37a7fc6e",
   "metadata": {},
   "outputs": [],
   "source": [
    "14. Faça um programa que lê as duas notas parciais obtidas por um aluno numa disciplina ao longo de um semestre, \n",
    "e calcule a sua média. A atribuição de conceitos obedece à tabela abaixo:\n",
    "  Média de Aproveitamento  Conceito\n",
    "  Entre 9.0 e 10.0        A\n",
    "  Entre 7.5 e 9.0         B\n",
    "  Entre 6.0 e 7.5         C\n",
    "  Entre 4.0 e 6.0         D\n",
    "  Entre 4.0 e zero        E\n",
    "O algoritmo deve mostrar na tela as notas, a média, o conceito correspondente e a mensagem “APROVADO” se o \n",
    "conceito for A, B ou C ou “REPROVADO” se o conceito for D ou E."
   ]
  },
  {
   "cell_type": "code",
   "execution_count": 56,
   "id": "9d8f1a10",
   "metadata": {},
   "outputs": [
    {
     "name": "stdout",
     "output_type": "stream",
     "text": [
      "digite nota 1: 9\n",
      "digite nota 2: 8\n",
      "nota 1: 9.0\n",
      "nota 2: 8.0\n",
      "média:  8.5\n",
      "conceito:  B\n",
      "resultado:  APROVADO!\n"
     ]
    }
   ],
   "source": [
    "n1 = float(input(\"digite nota 1: \"))\n",
    "n2 = float(input(\"digite nota 2: \"))\n",
    "media = (n1 + n2)/2\n",
    "\n",
    "if media >=9:\n",
    "    conceito = \"A\"\n",
    "elif media >= 7.5:\n",
    "    conceito = \"B\"\n",
    "elif media >= 6:\n",
    "    conceito = \"C\"\n",
    "elif media >= 4:\n",
    "    conceito = \"D\"\n",
    "elif media >= 0:\n",
    "    conceito = \"E\"\n",
    "\n",
    "if conceito in (\"A\",\"B\",\"C\"):\n",
    "    resultado = \"APROVADO!\"\n",
    "elif conceito in (\"D\", \"E\"):\n",
    "    resultado = \"REPROVADO\"\n",
    "    \n",
    "print(\"nota 1: {}\\nnota 2: {}\".format(n1, n2))\n",
    "print(\"média: \", media)\n",
    "print(\"conceito: \", conceito)\n",
    "print(\"resultado: \", resultado)\n"
   ]
  },
  {
   "cell_type": "markdown",
   "id": "7bf6a38e",
   "metadata": {},
   "source": [
    "15. Faça um Programa que peça os 3 lados de um triângulo. O programa deverá informar se os valores podem ser um \n",
    "triângulo. Indique, caso os lados formem um triângulo, se o mesmo é: equilátero, isósceles ou escaleno. <br><br>\n",
    "Dicas:<br>\n",
    "Três lados formam um triângulo quando a soma de quaisquer dois lados for maior que o terceiro;<br>\n",
    "Triângulo Equilátero: três lados iguais;<br>\n",
    "Triângulo Isósceles: quaisquer dois lados iguais;<br>\n",
    "Triângulo Escaleno: três lados diferentes;"
   ]
  },
  {
   "cell_type": "code",
   "execution_count": 58,
   "id": "df61088b",
   "metadata": {},
   "outputs": [
    {
     "name": "stdout",
     "output_type": "stream",
     "text": [
      "digite o lado 1: 5\n",
      "digite o lado 2: 8\n",
      "digite o lado 3: 6\n",
      "escaleno\n"
     ]
    }
   ],
   "source": [
    "l1 = int(input('digite o lado 1: '))\n",
    "l2 = int(input('digite o lado 2: '))\n",
    "l3 = int(input('digite o lado 3: '))\n",
    "\n",
    "if l1 > (l2 + l3) or l2 > (l1 + l3) or l3 > (l1 + l2):\n",
    "    print('não pode ser um triângulo')\n",
    "elif l1 == l2 == l3:\n",
    "    print('equilátero')\n",
    "elif l1 == l2 or l1 == l3 or l2 == l3:\n",
    "    print('isósceles')\n",
    "else:\n",
    "    print('escaleno')"
   ]
  },
  {
   "cell_type": "markdown",
   "id": "ccdc8028",
   "metadata": {},
   "source": [
    "16. Faça um programa que calcule as raízes de uma equação do segundo grau, na forma ax2 + bx + c. O programa deverá pedir os valores de a, b e c e fazer as consistências, informando ao usuário nas seguintes situações:<br><br>\n",
    "Se o usuário informar o valor de A igual a zero, a equação não é do segundo grau e o programa não deve fazer pedir os demais valores, sendo encerrado;<br>\n",
    "Se o delta calculado for negativo, a equação não possui raizes reais. Informe ao usuário e encerre o programa;<br>\n",
    "Se o delta calculado for igual a zero a equação possui apenas uma raiz real; informe-a ao usuário;<br>\n",
    "Se o delta for positivo, a equação possui duas raiz reais; informe-as ao usuário;"
   ]
  },
  {
   "cell_type": "code",
   "execution_count": 4,
   "id": "ae831ba0",
   "metadata": {},
   "outputs": [
    {
     "name": "stdout",
     "output_type": "stream",
     "text": [
      "coeficiente a: 5\n",
      "coeficiente b: 8\n",
      "coeficiente c: 10\n",
      "delta menor que 0, não possui raízes reais.\n"
     ]
    }
   ],
   "source": [
    " import math\n",
    "    \n",
    "a = int( input('coeficiente a: ') )\n",
    "\n",
    "if(a==0):\n",
    "    print('como a=0, não é uma equação do segundo grau.')\n",
    "else:\n",
    "    b = int( input('coeficiente b: ') )\n",
    "    c = int( input('coeficiente c: ') )\n",
    "        \n",
    "delta = b*b - (4*a*c)\n",
    "\n",
    "if delta<0:\n",
    "    print('delta menor que 0, não possui raízes reais.')\n",
    "elif delta==0:\n",
    "    raiz = -b / (2*a)\n",
    "    print('delta=0 , raiz = ',raiz)\n",
    "else:\n",
    "    raiz1 = (-b + math.sqrt(delta) ) / (2*a)\n",
    "    raiz2 = (-b - math.sqrt(delta) ) / (2*a)\n",
    "    print('as raízes são: ',raiz1,' e ',raiz2)"
   ]
  },
  {
   "cell_type": "markdown",
   "id": "2b8cd886",
   "metadata": {},
   "source": [
    "17. Faça um Programa que peça um número correspondente a um determinado ano e em seguida informe se este ano é ou não bissexto."
   ]
  },
  {
   "cell_type": "code",
   "execution_count": 5,
   "id": "1b74184a",
   "metadata": {
    "scrolled": true
   },
   "outputs": [
    {
     "name": "stdout",
     "output_type": "stream",
     "text": [
      "digite o ano: 2022\n",
      "o ano não é bissexto\n"
     ]
    }
   ],
   "source": [
    "ano = int(input('digite o ano: '))\n",
    "if (ano%4==0 and ano%100!=0) or (ano%400==0):\n",
    "    print('o ano bissexto')\n",
    "else:\n",
    "    print('o ano não é bissexto')"
   ]
  },
  {
   "cell_type": "markdown",
   "id": "c1a48452",
   "metadata": {},
   "source": [
    "18. Faça um Programa que peça uma data no formato dd/mm/aaaa e determine se a mesma é uma data válida."
   ]
  },
  {
   "cell_type": "code",
   "execution_count": 6,
   "id": "8f98ed80",
   "metadata": {},
   "outputs": [
    {
     "name": "stdout",
     "output_type": "stream",
     "text": [
      "digite o dia: 25\n",
      "digite o mês: 6\n",
      "digite o ano: 2022\n",
      "a data digitada é válida\n"
     ]
    }
   ],
   "source": [
    "dia = int( input('digite o dia: ') )\n",
    "mes = int( input('digite o mês: ') )\n",
    "ano = int( input('digite o ano: ') )\n",
    "\n",
    "valida = False\n",
    "\n",
    "if(mes==4 or mes==6 or mes==9 or mes==11):\n",
    "    if(dia<=30):\n",
    "        valida = True\n",
    "\n",
    "elif(mes==1 or mes==3 or mes==5 or mes==7 or mes==8 or mes==10 or mes==12):\n",
    "    if(dia<=31):\n",
    "        valida = True\n",
    "\n",
    "elif mes==2:\n",
    "    if (ano%4==0 and ano%100!=0) or (ano%400==0):\n",
    "        if(dia<=29):\n",
    "            valida = True\n",
    "    elif(dia<=28):\n",
    "            valida = True\n",
    "\n",
    "if(valida):\n",
    "    print('a data digitada é válida')\n",
    "else:\n",
    "    print('a data digitada é inválida')"
   ]
  },
  {
   "cell_type": "markdown",
   "id": "410eb9db",
   "metadata": {},
   "source": [
    "19. Faça um Programa que leia um número inteiro menor que 1000 e imprima a quantidade de centenas, dezenas e unidades do mesmo.<br><br>\n",
    "Observando os termos no plural a colocação do \"e\", da vírgula entre outros. Exemplo:<br>\n",
    "326 = 3 centenas, 2 dezenas e 6 unidades<br>\n",
    "12 = 1 dezena e 2 unidades Testar com: 326, 300, 100, 320, 310,305, 301, 101, 311, 111, 25, 20, 10, 21, 11, 1, 7 e 16"
   ]
  },
  {
   "cell_type": "code",
   "execution_count": 9,
   "id": "8f36ec7c",
   "metadata": {},
   "outputs": [
    {
     "name": "stdout",
     "output_type": "stream",
     "text": [
      "digite um numero inteiro positivo menor que 1000: 190\n",
      "1 centena(s), 9 dezena(s) e 0 unidade(s)\n"
     ]
    }
   ],
   "source": [
    "numero = int(input('digite um numero inteiro positivo menor que 1000: '))\n",
    "\n",
    "if numero<1000:\n",
    "    unidade = int(numero % 10)\n",
    "    numero = int((numero - unidade)/10)\n",
    "    dezena = int(numero % 10)\n",
    "    centena = int((numero - dezena)/10)\n",
    "\n",
    "print(centena,'centena(s),',dezena,'dezena(s) e',unidade,'unidade(s)')"
   ]
  },
  {
   "cell_type": "markdown",
   "id": "65ca28ee",
   "metadata": {},
   "source": [
    "20. Faça um Programa para leitura de três notas parciais de um aluno. O programa deve calcular a média alcançada por aluno e presentar:<br><br>\n",
    "A mensagem \"Aprovado\", se a média for maior ou igual a 7, com a respectiva média alcançada;<br>\n",
    "A mensagem \"Reprovado\", se a média for menor do que 7, com a respectiva média alcançada;<br>\n",
    "A mensagem \"Aprovado com Distinção\", se a média for igual a 10."
   ]
  },
  {
   "cell_type": "code",
   "execution_count": 14,
   "id": "b15292a2",
   "metadata": {},
   "outputs": [
    {
     "name": "stdout",
     "output_type": "stream",
     "text": [
      "digite a primeira nota: 10\n",
      "digite a segunda nota: 10\n",
      "digite a terceira nota: 10\n",
      "Aprovado com Distinção\n"
     ]
    }
   ],
   "source": [
    "n1 = float(input('digite a primeira nota: '))\n",
    "n2 = float(input('digite a segunda nota: '))\n",
    "n3 = float(input('digite a terceira nota: '))\n",
    "\n",
    "media = (n1 + n2 + n3)/3\n",
    "\n",
    "if media==10:\n",
    "    print('Aprovado com Distinção')\n",
    "elif media<7:\n",
    "    print('Reprovado')\n",
    "else:\n",
    "    print('Aprovado')"
   ]
  },
  {
   "cell_type": "markdown",
   "id": "fbe5db19",
   "metadata": {},
   "source": [
    "21. Faça um Programa para um caixa eletrônico. O programa deverá perguntar ao usuário a valor do saque e depois informar quantas notas de cada valor serão fornecidas. As notas disponíveis serão as de 1, 5, 10, 50 e 100 reais. O valor mínimo é de 10 reais e o máximo de 600 reais. O programa não deve se preocupar com a quantidade de notas existentes na máquina.<br><br>\n",
    "Exemplo 1: Para sacar a quantia de 256 reais, o programa fornece duas notas de 100, uma nota de 50, uma nota de 5 e uma nota de 1;<br>\n",
    "Exemplo 2: Para sacar a quantia de 399 reais, o programa fornece três notas de 100, uma nota de 50, quatro notas de 10, uma nota de 5 e quatro notas de 1."
   ]
  },
  {
   "cell_type": "code",
   "execution_count": 17,
   "id": "3b0496d3",
   "metadata": {},
   "outputs": [
    {
     "name": "stdout",
     "output_type": "stream",
     "text": [
      "digite o valor para sacar entre 10-600: 568\n",
      "notas de R$100,00: 5\n",
      "notas de R$50,00: 1\n",
      "notas de R$10,00: 1\n",
      "notas de R$5,00: 1\n",
      "notas de R$1,00: 3\n"
     ]
    }
   ],
   "source": [
    "numero = int(input('digite o valor para sacar entre 10-600: '))\n",
    "\n",
    "cem = int(numero/100)\n",
    "numero = numero-(cem*100)\n",
    "    \n",
    "cinquenta = int(numero/50)\n",
    "numero = numero-(cinquenta*50)\n",
    "\n",
    "dez = int(numero/10)\n",
    "numero = numero-(dez*10)\n",
    "\n",
    "cinco = int(numero/5)\n",
    "numero = numero-(cinco*5)\n",
    "\n",
    "um = numero\n",
    "\n",
    "print('notas de R$100,00: {}\\nnotas de R$50,00: {}\\nnotas de R$10,00: {}\\nnotas de R$5,00: {}\\nnotas de R$1,00: {}'.format(cem, cinquenta, dez, cinco, um))\n"
   ]
  },
  {
   "cell_type": "markdown",
   "id": "e068f3b2",
   "metadata": {},
   "source": [
    "22. Faça um Programa que peça um número inteiro e determine se ele é par ou impar. Dica: utilize o operador módulo (resto da divisão)."
   ]
  },
  {
   "cell_type": "code",
   "execution_count": 3,
   "id": "b736b243",
   "metadata": {},
   "outputs": [
    {
     "name": "stdout",
     "output_type": "stream",
     "text": [
      "digite um número: 4\n",
      "o número 4.0 é par!\n"
     ]
    }
   ],
   "source": [
    "num = float(input('digite um número: '))\n",
    "\n",
    "if num % 2 == 0:\n",
    "    print('o número {} é par!'.format(num))\n",
    "else:\n",
    "    print('o número {} é ímpar!'.format(num))"
   ]
  },
  {
   "cell_type": "markdown",
   "id": "ba8a030f",
   "metadata": {},
   "source": [
    "23. Faça um Programa que peça um número e informe se o número é inteiro ou decimal. Dica: utilize uma função de arredondamento.\n"
   ]
  },
  {
   "cell_type": "code",
   "execution_count": 3,
   "id": "80cf6a2d",
   "metadata": {},
   "outputs": [
    {
     "name": "stdout",
     "output_type": "stream",
     "text": [
      "digite um número: 2.5\n",
      "o número escolhido é decimal\n"
     ]
    }
   ],
   "source": [
    "num = float(input('digite um número: '))\n",
    "\n",
    "num2 = round(num)\n",
    "\n",
    "if num == num2:\n",
    "    print('o número escolhido é inteiro')\n",
    "else:\n",
    "    print('o número escolhido é decimal')"
   ]
  },
  {
   "cell_type": "markdown",
   "id": "2305d144",
   "metadata": {},
   "source": [
    "24. Faça um Programa que leia 2 números e em seguida pergunte ao usuário qual operação ele deseja realizar. <br>\n",
    "O resultado da operação deve ser acompanhado de uma frase que diga se o número é:<br><br>\n",
    "par ou ímpar;<br>\n",
    "positivo ou negativo;<br>\n",
    "inteiro ou decimal."
   ]
  },
  {
   "cell_type": "code",
   "execution_count": 10,
   "id": "43d72d72",
   "metadata": {},
   "outputs": [
    {
     "name": "stdout",
     "output_type": "stream",
     "text": [
      "digite o número 1: 5\n",
      "digite o número 2: 7\n",
      "digite a operação: [+, -, /, *]: *\n",
      "resultado:  35.0\n",
      "inteiro\n",
      "ímpar\n"
     ]
    }
   ],
   "source": [
    "num1 = float(input(\"digite o número 1: \"))\n",
    "num2 = float(input(\"digite o número 2: \"))\n",
    "operacao = input(\"digite a operação: [+, -, /, *]: \")\n",
    "\n",
    "\n",
    "def checar():\n",
    "    if (resultado // 1 == resultado):\n",
    "        print(\"inteiro\")\n",
    "        if resultado % 2 == 0:\n",
    "            print(\"par\")\n",
    "            if resultado > 0:\n",
    "                print(\"positivo\")\n",
    "            else:\n",
    "                print(\"negativo\")\n",
    "        else:\n",
    "            print(\"ímpar\")\n",
    "    else:\n",
    "        print(\"decimal\")\n",
    "\n",
    "\n",
    "if operacao == '+':\n",
    "    resultado = num1 + num2\n",
    "    print(\"resultado: \", resultado)\n",
    "    checar()\n",
    "elif operacao == '-':\n",
    "    resultado = num1 - num2\n",
    "    print(\"resultado: \", resultado)\n",
    "    checar()\n",
    "elif operacao == '/':\n",
    "    resultado = num1 / num2\n",
    "    print(\"resultado: \", resultado)\n",
    "    checar()\n",
    "elif operacao == '*':\n",
    "    resultado = numero1 * numero2\n",
    "    print(\"resultado: \", resultado)\n",
    "    checar()\n",
    "else:\n",
    "    print(\"Valor Invalido\")"
   ]
  },
  {
   "cell_type": "markdown",
   "id": "2178ff41",
   "metadata": {},
   "source": [
    "25. Faça um programa que faça 5 perguntas para uma pessoa sobre um crime. As perguntas são:<br><br>\n",
    "\"Telefonou para a vítima?\"<br>\n",
    "\"Esteve no local do crime?\"<br>\n",
    "\"Mora perto da vítima?\"<br>\n",
    "\"Devia para a vítima?\"<br>\n",
    "\"Já trabalhou com a vítima?\" <br><br>\n",
    "O programa deve no final emitir uma classificação sobre a participação da pessoa no crime. Se a pessoa responder positivamente a 2 questões ela deve ser classificada como \"Suspeita\", entre 3 e 4 como \"Cúmplice\" e 5 como \"Assassino\". Caso contrário, ele será classificado como \"Inocente\"."
   ]
  },
  {
   "cell_type": "code",
   "execution_count": 20,
   "id": "d70e41d8",
   "metadata": {},
   "outputs": [
    {
     "name": "stdout",
     "output_type": "stream",
     "text": [
      "Telefonou para a vítima? (1)Sim ou (0)Não: 1\n",
      "Esteve no local do crime? (1)Sim ou (0)Não: 1\n",
      "Mora perto da vítima? (1)Sim ou (0)Não: 1\n",
      "Devia para a vítima? (1)Sim ou (0)Não: 1\n",
      "Já trabalhou com a vítima? (1)Sim ou (0)Não: 0\n",
      "\n",
      "Cúmplice\n"
     ]
    }
   ],
   "source": [
    "res = []\n",
    "res.append(input(\"Telefonou para a vítima? (1)Sim ou (0)Não: \"))\n",
    "res.append(input(\"Esteve no local do crime? (1)Sim ou (0)Não: \"))\n",
    "res.append(input(\"Mora perto da vítima? (1)Sim ou (0)Não: \"))\n",
    "res.append(input(\"Devia para a vítima? (1)Sim ou (0)Não: \"))\n",
    "res.append(input(\"Já trabalhou com a vítima? (1)Sim ou (0)Não: \"))\n",
    "\n",
    "soma = 0\n",
    "\n",
    "for i in res: \n",
    "    soma = soma + int(i)\n",
    "if soma<2:\n",
    "    print(\"Inocente\")\n",
    "elif soma==2:\n",
    "    print(\"Suspeita\")\n",
    "elif 3 <= soma <= 4:\n",
    "    print(\"Cúmplice\")\n",
    "elif soma == 5:\n",
    "    print(\"Assassino\")"
   ]
  },
  {
   "cell_type": "markdown",
   "id": "313c0c03",
   "metadata": {},
   "source": [
    "26. Um posto está vendendo combustíveis com a seguinte tabela de descontos:<br><br>\n",
    "Álcool:<br>\n",
    "até 20 litros, desconto de 3% por litro<br>\n",
    "acima de 20 litros, desconto de 5% por litro<br><br>\n",
    "Gasolina:<br>\n",
    "até 20 litros, desconto de 4% por litro<br>\n",
    "acima de 20 litros, desconto de 6% por litro <br><br>\n",
    "Escreva um algoritmo que leia o número de litros vendidos, o tipo de combustível (codificado da seguinte forma: A-álcool, G-gasolina), calcule e imprima o valor a ser pago pelo cliente sabendo-se que o preço do litro da gasolina é 2,50 o preço do litro do álcool é 1,90."
   ]
  },
  {
   "cell_type": "code",
   "execution_count": 25,
   "id": "993f1dd4",
   "metadata": {},
   "outputs": [
    {
     "name": "stdout",
     "output_type": "stream",
     "text": [
      "digite quantos litros você quer: 5\n",
      "digite (1) para álcool ou (2) para gasolina: 2\n",
      "preço: R$12.00\n"
     ]
    }
   ],
   "source": [
    "litros = float(input(\"digite quantos litros você quer: \"))\n",
    "combustivel = input(\"digite (1) para álcool ou (2) para gasolina: \")\n",
    "preco = 0\n",
    "\n",
    "if combustivel == \"1\":\n",
    "    preco = litros * 1.9\n",
    "    if litros <= 20:\n",
    "        preco = preco - (1.9 * litros * 3 / 100)\n",
    "    else:\n",
    "        preco = preco - (1.9 * litros * 5 / 100)\n",
    "        \n",
    "elif combustivel == \"2\":\n",
    "    preco = litros * 2.5\n",
    "    if litros <= 20:\n",
    "        preco = preco - (2.5 * litros * 4 / 100)\n",
    "    else:\n",
    "        preco = preco - (2.5 * litros * 6 / 100)\n",
    "        \n",
    "print('preço: R${:.2f}'.format(preco))"
   ]
  },
  {
   "cell_type": "markdown",
   "id": "81ef068a",
   "metadata": {},
   "source": [
    "27. Uma fruteira está vendendo frutas com a seguinte tabela de preços:<br><br>\n",
    "Morango<br>\n",
    "até 5kg:2,50 por Kg<br>\n",
    "acima de 5kg: 2,20 por Kg<br><br>\n",
    "Maçã<br>\n",
    "até 5kg: 1,80 por Kg<br>\n",
    "acima de 5kg: 1,50 por Kg<br><br>\n",
    "Se o cliente comprar mais de 8 Kg em frutas ou o valor total da compra ultrapassar 25,00, receberá ainda um desconto de 10 por cento sobre este total. Escreva um algoritmo para ler a quantidade (em Kg) de morangos e a quantidade (em Kg) de maças adquiridas e escreva o valor a ser pago pelo cliente.\n"
   ]
  },
  {
   "cell_type": "code",
   "execution_count": 27,
   "id": "fcacdbd4",
   "metadata": {},
   "outputs": [
    {
     "name": "stdout",
     "output_type": "stream",
     "text": [
      "digite a quantidade (kg) de morangos: 5\n",
      "digite a quantidade(kg) de maças: 6\n",
      "Valor total:  19.35\n"
     ]
    }
   ],
   "source": [
    "morangos = int(input(\"digite a quantidade (kg) de morangos: \"))\n",
    "macas = int(input(\"digite a quantidade(kg) de maças: \"))\n",
    "\n",
    "if morangos > 5:\n",
    "    valor_morango = morangos*2.20\n",
    "else:\n",
    "    valor_morango = morangos*2.50\n",
    "\n",
    "if macas > 5:\n",
    "    valor_maca = macas*1.50\n",
    "else:\n",
    "    valor_maca = macas*1.80\n",
    "\n",
    "valor_total = valor_maca + valor_morango\n",
    "\n",
    "if valor_total>25 or (macas + morangos)>8:\n",
    "    print(\"Valor total: \", (valor_total - (valor_total * 0.1)))\n",
    "else:\n",
    "    print(\"Valor final: \", valor_total)"
   ]
  },
  {
   "cell_type": "markdown",
   "id": "7fe0dc64",
   "metadata": {},
   "source": [
    "28. O Hipermercado Tabajara está com uma promoção de carnes que é imperdível. Confira:<br><br>\n",
    "File Duplo<br>\n",
    "Até 5 Kg: 4,90 por Kg<br>\n",
    "Acima de 5 Kg: 5,80 por Kg<br><br>\n",
    "Alcatra<br>\n",
    "Até 5 Kg: 5,90 por Kg<br>\n",
    "Acima de 5 Kg: 6,80 por Kg<br><br>\n",
    "Picanha<br>\n",
    "Até 5 Kg: 6,90 por Kg<br>\n",
    "Acima de 5 Kg: 7,80 por Kg<br><br>\n",
    "Para atender a todos os clientes, cada cliente poderá levar apenas um dos tipos de carne da promoção, porém não há limites para a quantidade de carne por cliente. Se compra for feita no cartão Tabajara o cliente receberá ainda um desconto de 5por cento sobre o total da compra. Escreva um programa que peça o tipo e a quantidade de carne comprada pelo usuário e gere um cupom fiscal, contendo as informações da compra: tipo e quantidade de carne, preço total, tipo de pagamento, valor do desconto e valor a pagar.\n"
   ]
  },
  {
   "cell_type": "code",
   "execution_count": 34,
   "id": "bba1c085",
   "metadata": {},
   "outputs": [
    {
     "name": "stdout",
     "output_type": "stream",
     "text": [
      "digite o tipo:\n",
      "(1)Filé Duplo (2)Picanha 2\n",
      "digite a quantidade desejada(kg): 6\n",
      "a compra será realizada com cartao Tabajara? 'SIM' ou 'NAO': SIM\n",
      "\n",
      "CUPOM FISCAL\n",
      "Carne: Alcatra \n",
      "Quantidade: 6 KG \n",
      "Preço: R$41\n",
      "Cartao Tabajara: SIM\n",
      "Total com desconto: R$39\n"
     ]
    }
   ],
   "source": [
    "tipo = int(input(\"digite o tipo:\\n(1)Filé Duplo (2)Picanha \"))\n",
    "quantidade = int(input(\"digite a quantidade desejada(kg): \"))\n",
    "cartao = input(\"a compra será realizada com cartao Tabajara? 'SIM' ou 'NAO': \")\n",
    "\n",
    "if tipo == 1:\n",
    "    nome = \"File Duplo\"\n",
    "    if quantidade <= 5:\n",
    "        preco = quantidade * 4.90\n",
    "    else:\n",
    "        preco = quantidade * 5.80\n",
    "        \n",
    "if tipo == 2:\n",
    "    nome = \"Alcatra\"\n",
    "    if quantidade <= 5:\n",
    "        preco = quantidade * 5.90\n",
    "    else:\n",
    "        preco = quantidade * 6.80\n",
    "\n",
    "if tipo == 3:\n",
    "    nome = \"Picanha\"\n",
    "    if quantidade <= 5:\n",
    "        preco = quantidade * 6.90\n",
    "    else:\n",
    "        preco = quantidade * 7.80\n",
    "\n",
    "if cartao == 'SIM':\n",
    "    desconto = ((preco * 5) /100)\n",
    "    total = preco - desconto\n",
    "elif cartao == 'NAO':\n",
    "    total = preco\n",
    "    \n",
    "print(\"\\nCUPOM FISCAL\")\n",
    "print(\"Carne: %s \" %nome)\n",
    "print(\"Quantidade: %d KG \" %quantidade)\n",
    "print(\"Preço: R$%2.f\" %preco)\n",
    "print(\"Cartao Tabajara: %s\" %cartao)\n",
    "print(\"Total com desconto: R$%2.f\" %total)"
   ]
  }
 ],
 "metadata": {
  "kernelspec": {
   "display_name": "Python 3 (ipykernel)",
   "language": "python",
   "name": "python3"
  },
  "language_info": {
   "codemirror_mode": {
    "name": "ipython",
    "version": 3
   },
   "file_extension": ".py",
   "mimetype": "text/x-python",
   "name": "python",
   "nbconvert_exporter": "python",
   "pygments_lexer": "ipython3",
   "version": "3.8.10"
  }
 },
 "nbformat": 4,
 "nbformat_minor": 5
}
